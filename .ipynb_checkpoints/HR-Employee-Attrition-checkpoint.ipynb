{
 "cells": [
  {
   "cell_type": "markdown",
   "metadata": {
    "toc": true
   },
   "source": [
    "<h1>Table of Contents<span class=\"tocSkip\"></span></h1>\n",
    "<div class=\"toc\"><ul class=\"toc-item\"><li><span><a href=\"#Problem-Statement\" data-toc-modified-id=\"Problem-Statement-1\"><span class=\"toc-item-num\">1&nbsp;&nbsp;</span>Problem Statement</a></span></li><li><span><a href=\"#Data-Preparation--\" data-toc-modified-id=\"Data-Preparation---2\"><span class=\"toc-item-num\">2&nbsp;&nbsp;</span>Data Preparation  <a id=\"data_prep\"></a></a></span></li><li><span><a href=\"#Exploratory-Data-Analysis--\" data-toc-modified-id=\"Exploratory-Data-Analysis---3\"><span class=\"toc-item-num\">3&nbsp;&nbsp;</span>Exploratory Data Analysis  <a id=\"eda\"></a></a></span><ul class=\"toc-item\"><li><span><a href=\"#Attrition\" data-toc-modified-id=\"Attrition-3.1\"><span class=\"toc-item-num\">3.1&nbsp;&nbsp;</span>Attrition</a></span></li><li><span><a href=\"#Finding-Top-5-Important-Features\" data-toc-modified-id=\"Finding-Top-5-Important-Features-3.2\"><span class=\"toc-item-num\">3.2&nbsp;&nbsp;</span>Finding Top 5 Important Features</a></span></li></ul></li><li><span><a href=\"#Visualization--\" data-toc-modified-id=\"Visualization---4\"><span class=\"toc-item-num\">4&nbsp;&nbsp;</span>Visualization  <a id=\"visualization\"></a></a></span><ul class=\"toc-item\"><li><span><a href=\"#OverTime\" data-toc-modified-id=\"OverTime-4.1\"><span class=\"toc-item-num\">4.1&nbsp;&nbsp;</span>OverTime</a></span></li><li><span><a href=\"#MonthlyIncome\" data-toc-modified-id=\"MonthlyIncome-4.2\"><span class=\"toc-item-num\">4.2&nbsp;&nbsp;</span>MonthlyIncome</a></span></li><li><span><a href=\"#JobRole\" data-toc-modified-id=\"JobRole-4.3\"><span class=\"toc-item-num\">4.3&nbsp;&nbsp;</span>JobRole</a></span></li><li><span><a href=\"#Age\" data-toc-modified-id=\"Age-4.4\"><span class=\"toc-item-num\">4.4&nbsp;&nbsp;</span>Age</a></span></li><li><span><a href=\"#StockOptionLevel\" data-toc-modified-id=\"StockOptionLevel-4.5\"><span class=\"toc-item-num\">4.5&nbsp;&nbsp;</span>StockOptionLevel</a></span></li></ul></li><li><span><a href=\"#Splitting-Data--\" data-toc-modified-id=\"Splitting-Data---5\"><span class=\"toc-item-num\">5&nbsp;&nbsp;</span>Splitting Data  <a id=\"split_data\"></a></a></span></li><li><span><a href=\"#Modeling--\" data-toc-modified-id=\"Modeling---6\"><span class=\"toc-item-num\">6&nbsp;&nbsp;</span>Modeling  <a id=\"modeling\"></a></a></span><ul class=\"toc-item\"><li><span><a href=\"#CART\" data-toc-modified-id=\"CART-6.1\"><span class=\"toc-item-num\">6.1&nbsp;&nbsp;</span>CART</a></span></li><li><span><a href=\"#Random-Forest\" data-toc-modified-id=\"Random-Forest-6.2\"><span class=\"toc-item-num\">6.2&nbsp;&nbsp;</span>Random Forest</a></span></li><li><span><a href=\"#Neural-Network\" data-toc-modified-id=\"Neural-Network-6.3\"><span class=\"toc-item-num\">6.3&nbsp;&nbsp;</span>Neural Network</a></span></li><li><span><a href=\"#Ensembling\" data-toc-modified-id=\"Ensembling-6.4\"><span class=\"toc-item-num\">6.4&nbsp;&nbsp;</span>Ensembling</a></span></li></ul></li><li><span><a href=\"#Summary--\" data-toc-modified-id=\"Summary---7\"><span class=\"toc-item-num\">7&nbsp;&nbsp;</span>Summary  <a id=\"summarize\"></a></a></span></li></ul></div>"
   ]
  },
  {
   "cell_type": "markdown",
   "metadata": {},
   "source": [
    "# Employee Attrition Case Study"
   ]
  },
  {
   "cell_type": "markdown",
   "metadata": {},
   "source": [
    "## Problem Statement\n",
    "\n",
    "1. [Data Preparation](#data_prep)\n",
    "    - Data Import (Target variable is “Attrition” column)\n",
    "    - Identify columns which are of no use. drop those columns\n",
    "    - Find top five important features contributing towards attrition.\n",
    "\n",
    "\n",
    "2. [Exploratory Data Analysis](#eda)\n",
    "\n",
    "\n",
    "3. [Visualization](#visualization)\n",
    "\n",
    "\n",
    "4. [Split Data in Training and Testing samples](#split_data)\n",
    "\n",
    "\n",
    "5. [Modeling](#modeling)\n",
    "    - Build CART Model and validate CART Model on test data.\n",
    "\n",
    "    - Build Neural Network Model validate NN model on test data.\n",
    "\n",
    "    - Build Random Forest Model validate RF Model on test data.\n",
    "\n",
    "    - Build Ensemble Model by combining CART, RF, NN models together.\n",
    "\n",
    "\n",
    "6. [Summarize accuracy of all models built for prediction](#summarize)"
   ]
  },
  {
   "cell_type": "markdown",
   "metadata": {},
   "source": [
    "## Data Preparation  <a id='data_prep'></a>"
   ]
  },
  {
   "cell_type": "code",
   "execution_count": 1,
   "metadata": {},
   "outputs": [
    {
     "name": "stderr",
     "output_type": "stream",
     "text": [
      "Loading required package: lattice\n",
      "Loading required package: ggplot2\n"
     ]
    }
   ],
   "source": [
    "library(caret)"
   ]
  },
  {
   "cell_type": "code",
   "execution_count": 2,
   "metadata": {},
   "outputs": [
    {
     "data": {
      "text/html": [
       "<table>\n",
       "<thead><tr><th scope=col>Age</th><th scope=col>Attrition</th><th scope=col>BusinessTravel</th><th scope=col>DailyRate</th><th scope=col>Department</th><th scope=col>DistanceFromHome</th><th scope=col>Education</th><th scope=col>EducationField</th><th scope=col>EmployeeCount</th><th scope=col>EmployeeNumber</th><th scope=col>...</th><th scope=col>RelationshipSatisfaction</th><th scope=col>StandardHours</th><th scope=col>StockOptionLevel</th><th scope=col>TotalWorkingYears</th><th scope=col>TrainingTimesLastYear</th><th scope=col>WorkLifeBalance</th><th scope=col>YearsAtCompany</th><th scope=col>YearsInCurrentRole</th><th scope=col>YearsSinceLastPromotion</th><th scope=col>YearsWithCurrManager</th></tr></thead>\n",
       "<tbody>\n",
       "\t<tr><td>41                    </td><td>Yes                   </td><td>Travel_Rarely         </td><td>1102                  </td><td>Sales                 </td><td>1                     </td><td>2                     </td><td>Life Sciences         </td><td>1                     </td><td>1                     </td><td>...                   </td><td>1                     </td><td>80                    </td><td>0                     </td><td> 8                    </td><td>0                     </td><td>1                     </td><td> 6                    </td><td>4                     </td><td>0                     </td><td>5                     </td></tr>\n",
       "\t<tr><td>49                        </td><td>No                        </td><td>Travel_Frequently         </td><td> 279                      </td><td>Research &amp; Development</td><td>8                         </td><td>1                         </td><td>Life Sciences             </td><td>1                         </td><td>2                         </td><td>...                       </td><td>4                         </td><td>80                        </td><td>1                         </td><td>10                        </td><td>3                         </td><td>3                         </td><td>10                        </td><td>7                         </td><td>1                         </td><td>7                         </td></tr>\n",
       "\t<tr><td>37                                                       </td><td>Yes                                                      </td><td><span style=white-space:pre-wrap>Travel_Rarely    </span></td><td>1373                                                     </td><td>Research &amp; Development                               </td><td>2                                                        </td><td>2                                                        </td><td><span style=white-space:pre-wrap>Other        </span>    </td><td>1                                                        </td><td>4                                                        </td><td>...                                                      </td><td>2                                                        </td><td>80                                                       </td><td>0                                                        </td><td> 7                                                       </td><td>3                                                        </td><td>3                                                        </td><td> 0                                                       </td><td>0                                                        </td><td>0                                                        </td><td>0                                                        </td></tr>\n",
       "\t<tr><td>33                        </td><td>No                        </td><td>Travel_Frequently         </td><td>1392                      </td><td>Research &amp; Development</td><td>3                         </td><td>4                         </td><td>Life Sciences             </td><td>1                         </td><td>5                         </td><td>...                       </td><td>3                         </td><td>80                        </td><td>0                         </td><td> 8                        </td><td>3                         </td><td>3                         </td><td> 8                        </td><td>7                         </td><td>3                         </td><td>0                         </td></tr>\n",
       "\t<tr><td>27                                                       </td><td>No                                                       </td><td><span style=white-space:pre-wrap>Travel_Rarely    </span></td><td> 591                                                     </td><td>Research &amp; Development                               </td><td>2                                                        </td><td>1                                                        </td><td><span style=white-space:pre-wrap>Medical      </span>    </td><td>1                                                        </td><td>7                                                        </td><td>...                                                      </td><td>4                                                        </td><td>80                                                       </td><td>1                                                        </td><td> 6                                                       </td><td>3                                                        </td><td>3                                                        </td><td> 2                                                       </td><td>2                                                        </td><td>2                                                        </td><td>2                                                        </td></tr>\n",
       "\t<tr><td>32                        </td><td>No                        </td><td>Travel_Frequently         </td><td>1005                      </td><td>Research &amp; Development</td><td>2                         </td><td>2                         </td><td>Life Sciences             </td><td>1                         </td><td>8                         </td><td>...                       </td><td>3                         </td><td>80                        </td><td>0                         </td><td> 8                        </td><td>2                         </td><td>2                         </td><td> 7                        </td><td>7                         </td><td>3                         </td><td>6                         </td></tr>\n",
       "</tbody>\n",
       "</table>\n"
      ],
      "text/latex": [
       "\\begin{tabular}{r|lllllllllllllllllllllllllllllllllll}\n",
       " Age & Attrition & BusinessTravel & DailyRate & Department & DistanceFromHome & Education & EducationField & EmployeeCount & EmployeeNumber & ... & RelationshipSatisfaction & StandardHours & StockOptionLevel & TotalWorkingYears & TrainingTimesLastYear & WorkLifeBalance & YearsAtCompany & YearsInCurrentRole & YearsSinceLastPromotion & YearsWithCurrManager\\\\\n",
       "\\hline\n",
       "\t 41                     & Yes                    & Travel\\_Rarely        & 1102                   & Sales                  & 1                      & 2                      & Life Sciences          & 1                      & 1                      & ...                    & 1                      & 80                     & 0                      &  8                     & 0                      & 1                      &  6                     & 4                      & 0                      & 5                     \\\\\n",
       "\t 49                       & No                       & Travel\\_Frequently      &  279                     & Research \\& Development & 8                        & 1                        & Life Sciences            & 1                        & 2                        & ...                      & 4                        & 80                       & 1                        & 10                       & 3                        & 3                        & 10                       & 7                        & 1                        & 7                       \\\\\n",
       "\t 37                       & Yes                      & Travel\\_Rarely          & 1373                     & Research \\& Development & 2                        & 2                        & Other                    & 1                        & 4                        & ...                      & 2                        & 80                       & 0                        &  7                       & 3                        & 3                        &  0                       & 0                        & 0                        & 0                       \\\\\n",
       "\t 33                       & No                       & Travel\\_Frequently      & 1392                     & Research \\& Development & 3                        & 4                        & Life Sciences            & 1                        & 5                        & ...                      & 3                        & 80                       & 0                        &  8                       & 3                        & 3                        &  8                       & 7                        & 3                        & 0                       \\\\\n",
       "\t 27                       & No                       & Travel\\_Rarely          &  591                     & Research \\& Development & 2                        & 1                        & Medical                  & 1                        & 7                        & ...                      & 4                        & 80                       & 1                        &  6                       & 3                        & 3                        &  2                       & 2                        & 2                        & 2                       \\\\\n",
       "\t 32                       & No                       & Travel\\_Frequently      & 1005                     & Research \\& Development & 2                        & 2                        & Life Sciences            & 1                        & 8                        & ...                      & 3                        & 80                       & 0                        &  8                       & 2                        & 2                        &  7                       & 7                        & 3                        & 6                       \\\\\n",
       "\\end{tabular}\n"
      ],
      "text/markdown": [
       "\n",
       "Age | Attrition | BusinessTravel | DailyRate | Department | DistanceFromHome | Education | EducationField | EmployeeCount | EmployeeNumber | ... | RelationshipSatisfaction | StandardHours | StockOptionLevel | TotalWorkingYears | TrainingTimesLastYear | WorkLifeBalance | YearsAtCompany | YearsInCurrentRole | YearsSinceLastPromotion | YearsWithCurrManager | \n",
       "|---|---|---|---|---|---|\n",
       "| 41                     | Yes                    | Travel_Rarely          | 1102                   | Sales                  | 1                      | 2                      | Life Sciences          | 1                      | 1                      | ...                    | 1                      | 80                     | 0                      |  8                     | 0                      | 1                      |  6                     | 4                      | 0                      | 5                      | \n",
       "| 49                     | No                     | Travel_Frequently      |  279                   | Research & Development | 8                      | 1                      | Life Sciences          | 1                      | 2                      | ...                    | 4                      | 80                     | 1                      | 10                     | 3                      | 3                      | 10                     | 7                      | 1                      | 7                      | \n",
       "| 37                     | Yes                    | Travel_Rarely          | 1373                   | Research & Development | 2                      | 2                      | Other                  | 1                      | 4                      | ...                    | 2                      | 80                     | 0                      |  7                     | 3                      | 3                      |  0                     | 0                      | 0                      | 0                      | \n",
       "| 33                     | No                     | Travel_Frequently      | 1392                   | Research & Development | 3                      | 4                      | Life Sciences          | 1                      | 5                      | ...                    | 3                      | 80                     | 0                      |  8                     | 3                      | 3                      |  8                     | 7                      | 3                      | 0                      | \n",
       "| 27                     | No                     | Travel_Rarely          |  591                   | Research & Development | 2                      | 1                      | Medical                | 1                      | 7                      | ...                    | 4                      | 80                     | 1                      |  6                     | 3                      | 3                      |  2                     | 2                      | 2                      | 2                      | \n",
       "| 32                     | No                     | Travel_Frequently      | 1005                   | Research & Development | 2                      | 2                      | Life Sciences          | 1                      | 8                      | ...                    | 3                      | 80                     | 0                      |  8                     | 2                      | 2                      |  7                     | 7                      | 3                      | 6                      | \n",
       "\n",
       "\n"
      ],
      "text/plain": [
       "  Age Attrition BusinessTravel    DailyRate Department            \n",
       "1 41  Yes       Travel_Rarely     1102      Sales                 \n",
       "2 49  No        Travel_Frequently  279      Research & Development\n",
       "3 37  Yes       Travel_Rarely     1373      Research & Development\n",
       "4 33  No        Travel_Frequently 1392      Research & Development\n",
       "5 27  No        Travel_Rarely      591      Research & Development\n",
       "6 32  No        Travel_Frequently 1005      Research & Development\n",
       "  DistanceFromHome Education EducationField EmployeeCount EmployeeNumber ...\n",
       "1 1                2         Life Sciences  1             1              ...\n",
       "2 8                1         Life Sciences  1             2              ...\n",
       "3 2                2         Other          1             4              ...\n",
       "4 3                4         Life Sciences  1             5              ...\n",
       "5 2                1         Medical        1             7              ...\n",
       "6 2                2         Life Sciences  1             8              ...\n",
       "  RelationshipSatisfaction StandardHours StockOptionLevel TotalWorkingYears\n",
       "1 1                        80            0                 8               \n",
       "2 4                        80            1                10               \n",
       "3 2                        80            0                 7               \n",
       "4 3                        80            0                 8               \n",
       "5 4                        80            1                 6               \n",
       "6 3                        80            0                 8               \n",
       "  TrainingTimesLastYear WorkLifeBalance YearsAtCompany YearsInCurrentRole\n",
       "1 0                     1                6             4                 \n",
       "2 3                     3               10             7                 \n",
       "3 3                     3                0             0                 \n",
       "4 3                     3                8             7                 \n",
       "5 3                     3                2             2                 \n",
       "6 2                     2                7             7                 \n",
       "  YearsSinceLastPromotion YearsWithCurrManager\n",
       "1 0                       5                   \n",
       "2 1                       7                   \n",
       "3 0                       0                   \n",
       "4 3                       0                   \n",
       "5 2                       2                   \n",
       "6 3                       6                   "
      ]
     },
     "metadata": {},
     "output_type": "display_data"
    }
   ],
   "source": [
    "# Importing data\n",
    "emp_raw <- read.csv(\"HR_Employee_Attrition_Data.csv\")\n",
    "emp <- data.frame(emp_raw)\n",
    "head(emp)"
   ]
  },
  {
   "cell_type": "code",
   "execution_count": 3,
   "metadata": {},
   "outputs": [
    {
     "data": {
      "text/html": [
       "<table>\n",
       "<thead><tr><th scope=col>EmployeeCount</th><th scope=col>Over18</th><th scope=col>StandardHours</th></tr></thead>\n",
       "<tbody>\n",
       "\t<tr><td>1 </td><td>Y </td><td>80</td></tr>\n",
       "\t<tr><td>1 </td><td>Y </td><td>80</td></tr>\n",
       "\t<tr><td>1 </td><td>Y </td><td>80</td></tr>\n",
       "\t<tr><td>1 </td><td>Y </td><td>80</td></tr>\n",
       "\t<tr><td>1 </td><td>Y </td><td>80</td></tr>\n",
       "\t<tr><td>1 </td><td>Y </td><td>80</td></tr>\n",
       "</tbody>\n",
       "</table>\n"
      ],
      "text/latex": [
       "\\begin{tabular}{r|lll}\n",
       " EmployeeCount & Over18 & StandardHours\\\\\n",
       "\\hline\n",
       "\t 1  & Y  & 80\\\\\n",
       "\t 1  & Y  & 80\\\\\n",
       "\t 1  & Y  & 80\\\\\n",
       "\t 1  & Y  & 80\\\\\n",
       "\t 1  & Y  & 80\\\\\n",
       "\t 1  & Y  & 80\\\\\n",
       "\\end{tabular}\n"
      ],
      "text/markdown": [
       "\n",
       "EmployeeCount | Over18 | StandardHours | \n",
       "|---|---|---|---|---|---|\n",
       "| 1  | Y  | 80 | \n",
       "| 1  | Y  | 80 | \n",
       "| 1  | Y  | 80 | \n",
       "| 1  | Y  | 80 | \n",
       "| 1  | Y  | 80 | \n",
       "| 1  | Y  | 80 | \n",
       "\n",
       "\n"
      ],
      "text/plain": [
       "  EmployeeCount Over18 StandardHours\n",
       "1 1             Y      80           \n",
       "2 1             Y      80           \n",
       "3 1             Y      80           \n",
       "4 1             Y      80           \n",
       "5 1             Y      80           \n",
       "6 1             Y      80           "
      ]
     },
     "metadata": {},
     "output_type": "display_data"
    }
   ],
   "source": [
    "head(emp[nearZeroVar(emp)])"
   ]
  },
  {
   "cell_type": "markdown",
   "metadata": {},
   "source": [
    "Dropping the the columns with constant values or no variability.\n",
    "\n",
    "- Drop Over18 as there is no variability, all are Y.\n",
    "- Drop EmployeeCount as there is no variability, all are 1.\n",
    "- Drop StandardHours as there is no variability, all are 80.\n",
    "- Also, drop Employee Number as it is just an identifier."
   ]
  },
  {
   "cell_type": "code",
   "execution_count": 4,
   "metadata": {},
   "outputs": [],
   "source": [
    "emp$Over18 <- NULL\n",
    "emp$EmployeeCount <- NULL\n",
    "emp$StandardHours <- NULL\n",
    "emp$EmployeeNumber <- NULL"
   ]
  },
  {
   "cell_type": "markdown",
   "metadata": {},
   "source": [
    "There are multiple numeric variables that are actually factors, convert these to factors."
   ]
  },
  {
   "cell_type": "code",
   "execution_count": 5,
   "metadata": {},
   "outputs": [],
   "source": [
    "emp$Education <- as.factor(emp$Education)\n",
    "emp$EnvironmentSatisfaction <- as.factor(emp$EnvironmentSatisfaction)\n",
    "emp$JobInvolvement <- as.factor(emp$JobInvolvement)\n",
    "emp$JobLevel <- as.factor(emp$JobLevel)\n",
    "emp$JobSatisfaction <- as.factor(emp$JobSatisfaction)\n",
    "emp$PerformanceRating <- as.factor(emp$PerformanceRating)\n",
    "emp$RelationshipSatisfaction <- as.factor(emp$RelationshipSatisfaction)\n",
    "emp$StockOptionLevel <- as.factor(emp$StockOptionLevel)\n",
    "emp$TrainingTimesLastYear <- as.factor(emp$TrainingTimesLastYear)\n",
    "emp$WorkLifeBalance <- as.factor(emp$WorkLifeBalance)"
   ]
  },
  {
   "cell_type": "markdown",
   "metadata": {},
   "source": [
    "## Exploratory Data Analysis  <a id='eda'></a>"
   ]
  },
  {
   "cell_type": "markdown",
   "metadata": {},
   "source": [
    "### Attrition"
   ]
  },
  {
   "cell_type": "code",
   "execution_count": 6,
   "metadata": {},
   "outputs": [
    {
     "data": {
      "text/html": [
       "1470"
      ],
      "text/latex": [
       "1470"
      ],
      "text/markdown": [
       "1470"
      ],
      "text/plain": [
       "[1] 1470"
      ]
     },
     "metadata": {},
     "output_type": "display_data"
    }
   ],
   "source": [
    "nrow(emp)"
   ]
  },
  {
   "cell_type": "code",
   "execution_count": 7,
   "metadata": {},
   "outputs": [
    {
     "data": {
      "text/plain": [
       "\n",
       "  No  Yes \n",
       "1233  237 "
      ]
     },
     "metadata": {},
     "output_type": "display_data"
    }
   ],
   "source": [
    "table(emp$Attrition)"
   ]
  },
  {
   "cell_type": "code",
   "execution_count": 8,
   "metadata": {},
   "outputs": [
    {
     "data": {
      "text/plain": [
       "\n",
       "       No       Yes \n",
       "0.8387755 0.1612245 "
      ]
     },
     "metadata": {},
     "output_type": "display_data"
    }
   ],
   "source": [
    "prop.table(table(emp$Attrition))"
   ]
  },
  {
   "cell_type": "code",
   "execution_count": 9,
   "metadata": {},
   "outputs": [
    {
     "data": {},
     "metadata": {},
     "output_type": "display_data"
    },
    {
     "data": {
      "image/png": "[encoded data removed]",
      "text/plain": [
       "plot without title"
      ]
     },
     "metadata": {},
     "output_type": "display_data"
    }
   ],
   "source": [
    "ggplot(emp, aes(Attrition, fill = factor(Attrition))) + geom_bar()"
   ]
  },
  {
   "cell_type": "markdown",
   "metadata": {},
   "source": [
    "### Finding Top 5 Important Features"
   ]
  },
  {
   "cell_type": "code",
   "execution_count": 10,
   "metadata": {},
   "outputs": [
    {
     "name": "stdout",
     "output_type": "stream",
     "text": [
      "\n",
      "Recursive feature selection\n",
      "\n",
      "Outer resampling method: Cross-Validated (10 fold) \n",
      "\n",
      "Resampling performance over subset size:\n",
      "\n",
      " Variables Accuracy  Kappa AccuracySD KappaSD Selected\n",
      "         1   0.8388 0.0000   0.002838 0.00000         \n",
      "         2   0.8456 0.1346   0.007706 0.12043         \n",
      "         3   0.8435 0.1374   0.013339 0.09134         \n",
      "         4   0.8408 0.2425   0.020825 0.10350         \n",
      "         5   0.8381 0.2235   0.014043 0.07712         \n",
      "         6   0.8476 0.2774   0.023098 0.12570         \n",
      "         7   0.8476 0.2810   0.013990 0.09225         \n",
      "         8   0.8496 0.2746   0.013252 0.08005         \n",
      "        30   0.8578 0.2183   0.011397 0.10915        *\n",
      "\n",
      "The top 5 variables (out of 30):\n",
      "   OverTime, MonthlyIncome, JobRole, Age, StockOptionLevel\n",
      "\n"
     ]
    },
    {
     "data": {
      "text/html": [
       "<ol class=list-inline>\n",
       "\t<li>'OverTime'</li>\n",
       "\t<li>'MonthlyIncome'</li>\n",
       "\t<li>'JobRole'</li>\n",
       "\t<li>'Age'</li>\n",
       "\t<li>'StockOptionLevel'</li>\n",
       "\t<li>'JobLevel'</li>\n",
       "\t<li>'TotalWorkingYears'</li>\n",
       "\t<li>'YearsAtCompany'</li>\n",
       "\t<li>'MaritalStatus'</li>\n",
       "\t<li>'YearsWithCurrManager'</li>\n",
       "\t<li>'YearsInCurrentRole'</li>\n",
       "\t<li>'BusinessTravel'</li>\n",
       "\t<li>'EnvironmentSatisfaction'</li>\n",
       "\t<li>'WorkLifeBalance'</li>\n",
       "\t<li>'JobSatisfaction'</li>\n",
       "\t<li>'NumCompaniesWorked'</li>\n",
       "\t<li>'JobInvolvement'</li>\n",
       "\t<li>'Department'</li>\n",
       "\t<li>'EducationField'</li>\n",
       "\t<li>'YearsSinceLastPromotion'</li>\n",
       "\t<li>'DistanceFromHome'</li>\n",
       "\t<li>'RelationshipSatisfaction'</li>\n",
       "\t<li>'PercentSalaryHike'</li>\n",
       "\t<li>'PerformanceRating'</li>\n",
       "\t<li>'TrainingTimesLastYear'</li>\n",
       "\t<li>'Gender'</li>\n",
       "\t<li>'DailyRate'</li>\n",
       "\t<li>'HourlyRate'</li>\n",
       "\t<li>'Education'</li>\n",
       "\t<li>'MonthlyRate'</li>\n",
       "</ol>\n"
      ],
      "text/latex": [
       "\\begin{enumerate*}\n",
       "\\item 'OverTime'\n",
       "\\item 'MonthlyIncome'\n",
       "\\item 'JobRole'\n",
       "\\item 'Age'\n",
       "\\item 'StockOptionLevel'\n",
       "\\item 'JobLevel'\n",
       "\\item 'TotalWorkingYears'\n",
       "\\item 'YearsAtCompany'\n",
       "\\item 'MaritalStatus'\n",
       "\\item 'YearsWithCurrManager'\n",
       "\\item 'YearsInCurrentRole'\n",
       "\\item 'BusinessTravel'\n",
       "\\item 'EnvironmentSatisfaction'\n",
       "\\item 'WorkLifeBalance'\n",
       "\\item 'JobSatisfaction'\n",
       "\\item 'NumCompaniesWorked'\n",
       "\\item 'JobInvolvement'\n",
       "\\item 'Department'\n",
       "\\item 'EducationField'\n",
       "\\item 'YearsSinceLastPromotion'\n",
       "\\item 'DistanceFromHome'\n",
       "\\item 'RelationshipSatisfaction'\n",
       "\\item 'PercentSalaryHike'\n",
       "\\item 'PerformanceRating'\n",
       "\\item 'TrainingTimesLastYear'\n",
       "\\item 'Gender'\n",
       "\\item 'DailyRate'\n",
       "\\item 'HourlyRate'\n",
       "\\item 'Education'\n",
       "\\item 'MonthlyRate'\n",
       "\\end{enumerate*}\n"
      ],
      "text/markdown": [
       "1. 'OverTime'\n",
       "2. 'MonthlyIncome'\n",
       "3. 'JobRole'\n",
       "4. 'Age'\n",
       "5. 'StockOptionLevel'\n",
       "6. 'JobLevel'\n",
       "7. 'TotalWorkingYears'\n",
       "8. 'YearsAtCompany'\n",
       "9. 'MaritalStatus'\n",
       "10. 'YearsWithCurrManager'\n",
       "11. 'YearsInCurrentRole'\n",
       "12. 'BusinessTravel'\n",
       "13. 'EnvironmentSatisfaction'\n",
       "14. 'WorkLifeBalance'\n",
       "15. 'JobSatisfaction'\n",
       "16. 'NumCompaniesWorked'\n",
       "17. 'JobInvolvement'\n",
       "18. 'Department'\n",
       "19. 'EducationField'\n",
       "20. 'YearsSinceLastPromotion'\n",
       "21. 'DistanceFromHome'\n",
       "22. 'RelationshipSatisfaction'\n",
       "23. 'PercentSalaryHike'\n",
       "24. 'PerformanceRating'\n",
       "25. 'TrainingTimesLastYear'\n",
       "26. 'Gender'\n",
       "27. 'DailyRate'\n",
       "28. 'HourlyRate'\n",
       "29. 'Education'\n",
       "30. 'MonthlyRate'\n",
       "\n",
       "\n"
      ],
      "text/plain": [
       " [1] \"OverTime\"                 \"MonthlyIncome\"           \n",
       " [3] \"JobRole\"                  \"Age\"                     \n",
       " [5] \"StockOptionLevel\"         \"JobLevel\"                \n",
       " [7] \"TotalWorkingYears\"        \"YearsAtCompany\"          \n",
       " [9] \"MaritalStatus\"            \"YearsWithCurrManager\"    \n",
       "[11] \"YearsInCurrentRole\"       \"BusinessTravel\"          \n",
       "[13] \"EnvironmentSatisfaction\"  \"WorkLifeBalance\"         \n",
       "[15] \"JobSatisfaction\"          \"NumCompaniesWorked\"      \n",
       "[17] \"JobInvolvement\"           \"Department\"              \n",
       "[19] \"EducationField\"           \"YearsSinceLastPromotion\" \n",
       "[21] \"DistanceFromHome\"         \"RelationshipSatisfaction\"\n",
       "[23] \"PercentSalaryHike\"        \"PerformanceRating\"       \n",
       "[25] \"TrainingTimesLastYear\"    \"Gender\"                  \n",
       "[27] \"DailyRate\"                \"HourlyRate\"              \n",
       "[29] \"Education\"                \"MonthlyRate\"             "
      ]
     },
     "metadata": {},
     "output_type": "display_data"
    }
   ],
   "source": [
    "# https://machinelearningmastery.com/feature-selection-with-the-caret-r-package/\n",
    "\n",
    "# ensure the results are repeatable\n",
    "set.seed(1234)\n",
    "\n",
    "# load the library\n",
    "library(mlbench)\n",
    "library(caret)\n",
    "\n",
    "# define the control using a random forest selection function\n",
    "control <- rfeControl(functions = rfFuncs, method = \"cv\", number = 10)\n",
    "\n",
    "# run the RFE algorithm\n",
    "results <- rfe(emp[, -2], emp[, 2], sizes = c(1:8), rfeControl = control)\n",
    "\n",
    "# summarize the results\n",
    "print(results)\n",
    "\n",
    "# list the chosen features in sequence\n",
    "predictors(results)"
   ]
  },
  {
   "cell_type": "code",
   "execution_count": 11,
   "metadata": {},
   "outputs": [
    {
     "name": "stdout",
     "output_type": "stream",
     "text": [
      "[1] \"Here top five features are determined by using Random Forest Method. These features are contributing most for Attrition and hence can be given prior attention.\"\n"
     ]
    },
    {
     "data": {
      "text/html": [
       "<ol class=list-inline>\n",
       "\t<li>'OverTime'</li>\n",
       "\t<li>'MonthlyIncome'</li>\n",
       "\t<li>'JobRole'</li>\n",
       "\t<li>'Age'</li>\n",
       "\t<li>'StockOptionLevel'</li>\n",
       "</ol>\n"
      ],
      "text/latex": [
       "\\begin{enumerate*}\n",
       "\\item 'OverTime'\n",
       "\\item 'MonthlyIncome'\n",
       "\\item 'JobRole'\n",
       "\\item 'Age'\n",
       "\\item 'StockOptionLevel'\n",
       "\\end{enumerate*}\n"
      ],
      "text/markdown": [
       "1. 'OverTime'\n",
       "2. 'MonthlyIncome'\n",
       "3. 'JobRole'\n",
       "4. 'Age'\n",
       "5. 'StockOptionLevel'\n",
       "\n",
       "\n"
      ],
      "text/plain": [
       "[1] \"OverTime\"         \"MonthlyIncome\"    \"JobRole\"          \"Age\"             \n",
       "[5] \"StockOptionLevel\""
      ]
     },
     "metadata": {},
     "output_type": "display_data"
    }
   ],
   "source": [
    "print(\"Here top five features are determined by using Random Forest Method. These features are contributing most for Attrition and hence can be given prior attention.\")\n",
    "head(results$optVariables, 5)"
   ]
  },
  {
   "cell_type": "code",
   "execution_count": 12,
   "metadata": {},
   "outputs": [],
   "source": [
    "rm(results)"
   ]
  },
  {
   "cell_type": "markdown",
   "metadata": {},
   "source": [
    "## Visualization  <a id='visualization'></a>"
   ]
  },
  {
   "cell_type": "markdown",
   "metadata": {},
   "source": [
    "### OverTime"
   ]
  },
  {
   "cell_type": "code",
   "execution_count": 13,
   "metadata": {},
   "outputs": [
    {
     "data": {},
     "metadata": {},
     "output_type": "display_data"
    },
    {
     "data": {
      "image/png": "[encoded data removed]",
      "text/plain": [
       "plot without title"
      ]
     },
     "metadata": {},
     "output_type": "display_data"
    }
   ],
   "source": [
    "ggplot(emp, aes(OverTime, fill = factor(Attrition))) + geom_bar(position = \"dodge\")"
   ]
  },
  {
   "cell_type": "markdown",
   "metadata": {},
   "source": [
    "### MonthlyIncome"
   ]
  },
  {
   "cell_type": "code",
   "execution_count": 14,
   "metadata": {},
   "outputs": [
    {
     "data": {},
     "metadata": {},
     "output_type": "display_data"
    },
    {
     "data": {
      "image/png": "[encoded data removed]",
      "text/plain": [
       "plot without title"
      ]
     },
     "metadata": {},
     "output_type": "display_data"
    }
   ],
   "source": [
    "ggplot(emp, aes(cut(MonthlyIncome, 5), fill = factor(Attrition))) + geom_bar(position = \"dodge\") + \n",
    "    theme(axis.text.x = element_text(angle = 90, hjust = 1))"
   ]
  },
  {
   "cell_type": "markdown",
   "metadata": {},
   "source": [
    "### JobRole"
   ]
  },
  {
   "cell_type": "code",
   "execution_count": 15,
   "metadata": {},
   "outputs": [
    {
     "data": {},
     "metadata": {},
     "output_type": "display_data"
    },
    {
     "data": {
      "image/png": "[encoded data removed]",
      "text/plain": [
       "plot without title"
      ]
     },
     "metadata": {},
     "output_type": "display_data"
    }
   ],
   "source": [
    "ggplot(emp, aes(JobRole), fill = factor(Attrition)) + geom_bar(position = \"dodge\") + \n",
    "    theme(axis.text.x = element_text(angle = 90, hjust = 1))"
   ]
  },
  {
   "cell_type": "markdown",
   "metadata": {},
   "source": [
    "### Age"
   ]
  },
  {
   "cell_type": "code",
   "execution_count": 16,
   "metadata": {},
   "outputs": [
    {
     "data": {},
     "metadata": {},
     "output_type": "display_data"
    },
    {
     "data": {
      "image/png": "[encoded data removed]",
      "text/plain": [
       "plot without title"
      ]
     },
     "metadata": {},
     "output_type": "display_data"
    }
   ],
   "source": [
    "ggplot(emp, aes(cut(Age, 7, include.lowest = T), fill = factor(Attrition))) + geom_bar(position = \"dodge\")"
   ]
  },
  {
   "cell_type": "markdown",
   "metadata": {},
   "source": [
    "### StockOptionLevel"
   ]
  },
  {
   "cell_type": "code",
   "execution_count": 17,
   "metadata": {},
   "outputs": [
    {
     "data": {},
     "metadata": {},
     "output_type": "display_data"
    },
    {
     "data": {
      "image/png": "[encoded data removed]",
      "text/plain": [
       "plot without title"
      ]
     },
     "metadata": {},
     "output_type": "display_data"
    }
   ],
   "source": [
    "ggplot(emp, aes(StockOptionLevel, fill = factor(Attrition))) + geom_bar(position = \"dodge\")"
   ]
  },
  {
   "cell_type": "markdown",
   "metadata": {},
   "source": [
    "## Splitting Data  <a id='split_data'></a>"
   ]
  },
  {
   "cell_type": "code",
   "execution_count": 18,
   "metadata": {},
   "outputs": [],
   "source": [
    "set.seed(1234)\n",
    "library(caTools)\n",
    "\n",
    "split = sample.split(emp$Attrition, SplitRatio = 0.7)\n",
    "\n",
    "# Create training and testing sets\n",
    "train = subset(emp, split == TRUE)\n",
    "test = subset(emp, split == FALSE)"
   ]
  },
  {
   "cell_type": "markdown",
   "metadata": {},
   "source": [
    "## Modeling  <a id='modeling'></a>"
   ]
  },
  {
   "cell_type": "markdown",
   "metadata": {},
   "source": [
    "### CART"
   ]
  },
  {
   "cell_type": "code",
   "execution_count": 19,
   "metadata": {},
   "outputs": [
    {
     "data": {
      "image/png": "[encoded data removed]",
      "text/plain": [
       "plot without title"
      ]
     },
     "metadata": {},
     "output_type": "display_data"
    }
   ],
   "source": [
    "# Load CART packages\n",
    "library(rpart)\n",
    "library(rpart.plot)\n",
    "\n",
    "modelCart = rpart(Attrition ~ ., data = train, method = \"class\")\n",
    "\n",
    "# Plot the model\n",
    "prp(modelCart)"
   ]
  },
  {
   "cell_type": "code",
   "execution_count": 20,
   "metadata": {},
   "outputs": [
    {
     "data": {
      "text/html": [
       "0.836734693877551"
      ],
      "text/latex": [
       "0.836734693877551"
      ],
      "text/markdown": [
       "0.836734693877551"
      ],
      "text/plain": [
       "[1] 0.8367347"
      ]
     },
     "metadata": {},
     "output_type": "display_data"
    }
   ],
   "source": [
    "# Predict the test data\n",
    "predictionCart <- predict(modelCart, newdata = test, type = \"class\")\n",
    "\n",
    "# CART Accuracy Confusion matrix\n",
    "t1 <- table(test$Attrition, predictionCart)\n",
    "\n",
    "\n",
    "# CART model accuracy\n",
    "result_CART <- (t1[1] + t1[4])/(nrow(test))\n",
    "result_CART"
   ]
  },
  {
   "cell_type": "code",
   "execution_count": 21,
   "metadata": {},
   "outputs": [],
   "source": [
    "rm(modelCart) # To keep system performing well, removing environment variable as it is no longer needed."
   ]
  },
  {
   "cell_type": "markdown",
   "metadata": {},
   "source": [
    "### Random Forest"
   ]
  },
  {
   "cell_type": "code",
   "execution_count": 22,
   "metadata": {},
   "outputs": [
    {
     "name": "stderr",
     "output_type": "stream",
     "text": [
      "randomForest 4.6-14\n",
      "Type rfNews() to see new features/changes/bug fixes.\n",
      "\n",
      "Attaching package: 'randomForest'\n",
      "\n",
      "The following object is masked from 'package:ggplot2':\n",
      "\n",
      "    margin\n",
      "\n"
     ]
    },
    {
     "name": "stdout",
     "output_type": "stream",
     "text": [
      "\n",
      "Call:\n",
      " randomForest(formula = Attrition ~ ., data = train, ntree = 100,      mtry = 5, importance = TRUE, method = \"class\") \n",
      "               Type of random forest: classification\n",
      "                     Number of trees: 100\n",
      "No. of variables tried at each split: 5\n",
      "\n",
      "        OOB estimate of  error rate: 14.29%\n",
      "Confusion matrix:\n",
      "     No Yes class.error\n",
      "No  854   9  0.01042874\n",
      "Yes 138  28  0.83132530\n"
     ]
    }
   ],
   "source": [
    "# Load Random Forest package\n",
    "library(randomForest)\n",
    "\n",
    "modelRf = randomForest(Attrition ~ ., data = train, ntree = 100, mtry = 5, importance = TRUE, \n",
    "    method = \"class\")\n",
    "\n",
    "# Print the model\n",
    "print(modelRf)"
   ]
  },
  {
   "cell_type": "code",
   "execution_count": 23,
   "metadata": {},
   "outputs": [
    {
     "data": {
      "text/html": [
       "<table>\n",
       "<thead><tr><th></th><th scope=col>No</th><th scope=col>Yes</th><th scope=col>MeanDecreaseAccuracy</th><th scope=col>MeanDecreaseGini</th></tr></thead>\n",
       "<tbody>\n",
       "\t<tr><th scope=row>OverTime</th><td> 4.92</td><td> 5.85</td><td> 6.55</td><td>12.27</td></tr>\n",
       "\t<tr><th scope=row>YearsAtCompany</th><td> 3.96</td><td> 0.62</td><td> 4.73</td><td>10.79</td></tr>\n",
       "\t<tr><th scope=row>Age</th><td> 2.94</td><td> 3.99</td><td> 4.58</td><td>18.69</td></tr>\n",
       "\t<tr><th scope=row>MonthlyIncome</th><td> 3.56</td><td> 2.31</td><td> 4.52</td><td>20.76</td></tr>\n",
       "\t<tr><th scope=row>YearsWithCurrManager</th><td> 3.64</td><td> 0.89</td><td> 4.18</td><td> 8.97</td></tr>\n",
       "\t<tr><th scope=row>JobRole</th><td> 3.82</td><td> 2.03</td><td> 4.16</td><td>13.55</td></tr>\n",
       "\t<tr><th scope=row>TotalWorkingYears</th><td> 2.80</td><td> 2.10</td><td> 3.93</td><td>14.08</td></tr>\n",
       "\t<tr><th scope=row>YearsInCurrentRole</th><td> 3.71</td><td> 0.17</td><td> 3.55</td><td> 6.40</td></tr>\n",
       "\t<tr><th scope=row>BusinessTravel</th><td> 2.33</td><td> 2.19</td><td> 3.06</td><td> 6.31</td></tr>\n",
       "\t<tr><th scope=row>MaritalStatus</th><td> 1.20</td><td> 3.78</td><td> 2.75</td><td> 4.97</td></tr>\n",
       "\t<tr><th scope=row>StockOptionLevel</th><td> 1.80</td><td> 3.37</td><td> 2.74</td><td> 8.05</td></tr>\n",
       "\t<tr><th scope=row>JobLevel</th><td> 1.20</td><td> 2.21</td><td> 2.50</td><td> 6.55</td></tr>\n",
       "\t<tr><th scope=row>TrainingTimesLastYear</th><td> 1.14</td><td> 0.95</td><td> 1.64</td><td>11.38</td></tr>\n",
       "\t<tr><th scope=row>JobInvolvement</th><td> 0.35</td><td> 2.33</td><td> 1.52</td><td> 7.87</td></tr>\n",
       "\t<tr><th scope=row>HourlyRate</th><td> 0.24</td><td> 2.08</td><td> 1.25</td><td>13.11</td></tr>\n",
       "\t<tr><th scope=row>DistanceFromHome</th><td> 1.50</td><td>-0.32</td><td> 1.22</td><td>12.31</td></tr>\n",
       "\t<tr><th scope=row>JobSatisfaction</th><td> 0.82</td><td> 0.52</td><td> 1.01</td><td> 8.58</td></tr>\n",
       "\t<tr><th scope=row>RelationshipSatisfaction</th><td> 0.40</td><td> 0.71</td><td> 0.67</td><td> 7.18</td></tr>\n",
       "\t<tr><th scope=row>NumCompaniesWorked</th><td>-0.11</td><td> 0.99</td><td> 0.38</td><td> 8.91</td></tr>\n",
       "\t<tr><th scope=row>EnvironmentSatisfaction</th><td>-0.42</td><td> 1.66</td><td> 0.36</td><td> 8.52</td></tr>\n",
       "\t<tr><th scope=row>DailyRate</th><td> 0.66</td><td>-0.65</td><td> 0.25</td><td>15.31</td></tr>\n",
       "\t<tr><th scope=row>EducationField</th><td> 0.30</td><td>-0.12</td><td> 0.16</td><td> 9.22</td></tr>\n",
       "\t<tr><th scope=row>WorkLifeBalance</th><td> 0.13</td><td> 0.04</td><td> 0.12</td><td> 6.88</td></tr>\n",
       "\t<tr><th scope=row>PerformanceRating</th><td>-0.41</td><td> 0.79</td><td>-0.16</td><td> 0.76</td></tr>\n",
       "\t<tr><th scope=row>Education</th><td> 0.43</td><td>-1.48</td><td>-0.27</td><td> 7.21</td></tr>\n",
       "\t<tr><th scope=row>YearsSinceLastPromotion</th><td> 0.30</td><td>-1.75</td><td>-0.33</td><td> 5.61</td></tr>\n",
       "\t<tr><th scope=row>Department</th><td>-0.66</td><td>-0.08</td><td>-0.75</td><td> 3.12</td></tr>\n",
       "\t<tr><th scope=row>PercentSalaryHike</th><td>-0.33</td><td>-1.34</td><td>-0.98</td><td> 8.03</td></tr>\n",
       "\t<tr><th scope=row>Gender</th><td>-1.88</td><td> 1.25</td><td>-1.27</td><td> 1.50</td></tr>\n",
       "\t<tr><th scope=row>MonthlyRate</th><td>-1.91</td><td>-2.19</td><td>-2.77</td><td>12.37</td></tr>\n",
       "</tbody>\n",
       "</table>\n"
      ],
      "text/latex": [
       "\\begin{tabular}{r|llll}\n",
       "  & No & Yes & MeanDecreaseAccuracy & MeanDecreaseGini\\\\\n",
       "\\hline\n",
       "\tOverTime &  4.92 &  5.85 &  6.55 & 12.27\\\\\n",
       "\tYearsAtCompany &  3.96 &  0.62 &  4.73 & 10.79\\\\\n",
       "\tAge &  2.94 &  3.99 &  4.58 & 18.69\\\\\n",
       "\tMonthlyIncome &  3.56 &  2.31 &  4.52 & 20.76\\\\\n",
       "\tYearsWithCurrManager &  3.64 &  0.89 &  4.18 &  8.97\\\\\n",
       "\tJobRole &  3.82 &  2.03 &  4.16 & 13.55\\\\\n",
       "\tTotalWorkingYears &  2.80 &  2.10 &  3.93 & 14.08\\\\\n",
       "\tYearsInCurrentRole &  3.71 &  0.17 &  3.55 &  6.40\\\\\n",
       "\tBusinessTravel &  2.33 &  2.19 &  3.06 &  6.31\\\\\n",
       "\tMaritalStatus &  1.20 &  3.78 &  2.75 &  4.97\\\\\n",
       "\tStockOptionLevel &  1.80 &  3.37 &  2.74 &  8.05\\\\\n",
       "\tJobLevel &  1.20 &  2.21 &  2.50 &  6.55\\\\\n",
       "\tTrainingTimesLastYear &  1.14 &  0.95 &  1.64 & 11.38\\\\\n",
       "\tJobInvolvement &  0.35 &  2.33 &  1.52 &  7.87\\\\\n",
       "\tHourlyRate &  0.24 &  2.08 &  1.25 & 13.11\\\\\n",
       "\tDistanceFromHome &  1.50 & -0.32 &  1.22 & 12.31\\\\\n",
       "\tJobSatisfaction &  0.82 &  0.52 &  1.01 &  8.58\\\\\n",
       "\tRelationshipSatisfaction &  0.40 &  0.71 &  0.67 &  7.18\\\\\n",
       "\tNumCompaniesWorked & -0.11 &  0.99 &  0.38 &  8.91\\\\\n",
       "\tEnvironmentSatisfaction & -0.42 &  1.66 &  0.36 &  8.52\\\\\n",
       "\tDailyRate &  0.66 & -0.65 &  0.25 & 15.31\\\\\n",
       "\tEducationField &  0.30 & -0.12 &  0.16 &  9.22\\\\\n",
       "\tWorkLifeBalance &  0.13 &  0.04 &  0.12 &  6.88\\\\\n",
       "\tPerformanceRating & -0.41 &  0.79 & -0.16 &  0.76\\\\\n",
       "\tEducation &  0.43 & -1.48 & -0.27 &  7.21\\\\\n",
       "\tYearsSinceLastPromotion &  0.30 & -1.75 & -0.33 &  5.61\\\\\n",
       "\tDepartment & -0.66 & -0.08 & -0.75 &  3.12\\\\\n",
       "\tPercentSalaryHike & -0.33 & -1.34 & -0.98 &  8.03\\\\\n",
       "\tGender & -1.88 &  1.25 & -1.27 &  1.50\\\\\n",
       "\tMonthlyRate & -1.91 & -2.19 & -2.77 & 12.37\\\\\n",
       "\\end{tabular}\n"
      ],
      "text/markdown": [
       "\n",
       "| <!--/--> | No | Yes | MeanDecreaseAccuracy | MeanDecreaseGini | \n",
       "|---|---|---|---|---|---|---|---|---|---|---|---|---|---|---|---|---|---|---|---|---|---|---|---|---|---|---|---|---|---|\n",
       "| OverTime |  4.92 |  5.85 |  6.55 | 12.27 | \n",
       "| YearsAtCompany |  3.96 |  0.62 |  4.73 | 10.79 | \n",
       "| Age |  2.94 |  3.99 |  4.58 | 18.69 | \n",
       "| MonthlyIncome |  3.56 |  2.31 |  4.52 | 20.76 | \n",
       "| YearsWithCurrManager |  3.64 |  0.89 |  4.18 |  8.97 | \n",
       "| JobRole |  3.82 |  2.03 |  4.16 | 13.55 | \n",
       "| TotalWorkingYears |  2.80 |  2.10 |  3.93 | 14.08 | \n",
       "| YearsInCurrentRole |  3.71 |  0.17 |  3.55 |  6.40 | \n",
       "| BusinessTravel |  2.33 |  2.19 |  3.06 |  6.31 | \n",
       "| MaritalStatus |  1.20 |  3.78 |  2.75 |  4.97 | \n",
       "| StockOptionLevel |  1.80 |  3.37 |  2.74 |  8.05 | \n",
       "| JobLevel |  1.20 |  2.21 |  2.50 |  6.55 | \n",
       "| TrainingTimesLastYear |  1.14 |  0.95 |  1.64 | 11.38 | \n",
       "| JobInvolvement |  0.35 |  2.33 |  1.52 |  7.87 | \n",
       "| HourlyRate |  0.24 |  2.08 |  1.25 | 13.11 | \n",
       "| DistanceFromHome |  1.50 | -0.32 |  1.22 | 12.31 | \n",
       "| JobSatisfaction |  0.82 |  0.52 |  1.01 |  8.58 | \n",
       "| RelationshipSatisfaction |  0.40 |  0.71 |  0.67 |  7.18 | \n",
       "| NumCompaniesWorked | -0.11 |  0.99 |  0.38 |  8.91 | \n",
       "| EnvironmentSatisfaction | -0.42 |  1.66 |  0.36 |  8.52 | \n",
       "| DailyRate |  0.66 | -0.65 |  0.25 | 15.31 | \n",
       "| EducationField |  0.30 | -0.12 |  0.16 |  9.22 | \n",
       "| WorkLifeBalance |  0.13 |  0.04 |  0.12 |  6.88 | \n",
       "| PerformanceRating | -0.41 |  0.79 | -0.16 |  0.76 | \n",
       "| Education |  0.43 | -1.48 | -0.27 |  7.21 | \n",
       "| YearsSinceLastPromotion |  0.30 | -1.75 | -0.33 |  5.61 | \n",
       "| Department | -0.66 | -0.08 | -0.75 |  3.12 | \n",
       "| PercentSalaryHike | -0.33 | -1.34 | -0.98 |  8.03 | \n",
       "| Gender | -1.88 |  1.25 | -1.27 |  1.50 | \n",
       "| MonthlyRate | -1.91 | -2.19 | -2.77 | 12.37 | \n",
       "\n",
       "\n"
      ],
      "text/plain": [
       "                         No    Yes   MeanDecreaseAccuracy MeanDecreaseGini\n",
       "OverTime                  4.92  5.85  6.55                12.27           \n",
       "YearsAtCompany            3.96  0.62  4.73                10.79           \n",
       "Age                       2.94  3.99  4.58                18.69           \n",
       "MonthlyIncome             3.56  2.31  4.52                20.76           \n",
       "YearsWithCurrManager      3.64  0.89  4.18                 8.97           \n",
       "JobRole                   3.82  2.03  4.16                13.55           \n",
       "TotalWorkingYears         2.80  2.10  3.93                14.08           \n",
       "YearsInCurrentRole        3.71  0.17  3.55                 6.40           \n",
       "BusinessTravel            2.33  2.19  3.06                 6.31           \n",
       "MaritalStatus             1.20  3.78  2.75                 4.97           \n",
       "StockOptionLevel          1.80  3.37  2.74                 8.05           \n",
       "JobLevel                  1.20  2.21  2.50                 6.55           \n",
       "TrainingTimesLastYear     1.14  0.95  1.64                11.38           \n",
       "JobInvolvement            0.35  2.33  1.52                 7.87           \n",
       "HourlyRate                0.24  2.08  1.25                13.11           \n",
       "DistanceFromHome          1.50 -0.32  1.22                12.31           \n",
       "JobSatisfaction           0.82  0.52  1.01                 8.58           \n",
       "RelationshipSatisfaction  0.40  0.71  0.67                 7.18           \n",
       "NumCompaniesWorked       -0.11  0.99  0.38                 8.91           \n",
       "EnvironmentSatisfaction  -0.42  1.66  0.36                 8.52           \n",
       "DailyRate                 0.66 -0.65  0.25                15.31           \n",
       "EducationField            0.30 -0.12  0.16                 9.22           \n",
       "WorkLifeBalance           0.13  0.04  0.12                 6.88           \n",
       "PerformanceRating        -0.41  0.79 -0.16                 0.76           \n",
       "Education                 0.43 -1.48 -0.27                 7.21           \n",
       "YearsSinceLastPromotion   0.30 -1.75 -0.33                 5.61           \n",
       "Department               -0.66 -0.08 -0.75                 3.12           \n",
       "PercentSalaryHike        -0.33 -1.34 -0.98                 8.03           \n",
       "Gender                   -1.88  1.25 -1.27                 1.50           \n",
       "MonthlyRate              -1.91 -2.19 -2.77                12.37           "
      ]
     },
     "metadata": {},
     "output_type": "display_data"
    }
   ],
   "source": [
    "## List the importance of the variables.\n",
    "impVar <- round(randomForest::importance(modelRf), 2)\n",
    "impVar[order(impVar[, 3], decreasing = TRUE), ]"
   ]
  },
  {
   "cell_type": "code",
   "execution_count": 24,
   "metadata": {},
   "outputs": [
    {
     "name": "stdout",
     "output_type": "stream",
     "text": [
      "mtry = 10  OOB error = 14.77% \n",
      "Searching left ...\n",
      "mtry = 2 \tOOB error = 14.87% \n",
      "-0.006578947 0.001 \n",
      "Searching right ...\n",
      "mtry = 30 \tOOB error = 15.35% \n",
      "-0.03947368 0.001 \n"
     ]
    },
    {
     "data": {
      "image/png": "[encoded data removed]",
      "text/plain": [
       "plot without title"
      ]
     },
     "metadata": {},
     "output_type": "display_data"
    }
   ],
   "source": [
    "# Tuning Random Forest\n",
    "tunedRf <- tuneRF(x = train[, -2], y = as.factor(train$Attrition), mtryStart = 10, \n",
    "    ntreeTry = 60, stepFactor = 5, improve = 0.001, trace = TRUE, plot = TRUE, doBest = TRUE, \n",
    "    nodesize = 5, importance = TRUE)"
   ]
  },
  {
   "cell_type": "code",
   "execution_count": 25,
   "metadata": {},
   "outputs": [
    {
     "data": {
      "text/html": [
       "<table>\n",
       "<thead><tr><th></th><th scope=col>No</th><th scope=col>Yes</th><th scope=col>MeanDecreaseAccuracy</th><th scope=col>MeanDecreaseGini</th></tr></thead>\n",
       "<tbody>\n",
       "\t<tr><th scope=row>OverTime</th><td> 7.930639e-03</td><td> 3.398424e-02</td><td> 1.207003e-02</td><td>13.3545207   </td></tr>\n",
       "\t<tr><th scope=row>MonthlyIncome</th><td> 9.803501e-03</td><td> 2.188013e-02</td><td> 1.168454e-02</td><td>19.9108814   </td></tr>\n",
       "\t<tr><th scope=row>Age</th><td> 6.784437e-03</td><td> 1.917304e-02</td><td> 8.761606e-03</td><td>16.7395826   </td></tr>\n",
       "\t<tr><th scope=row>TotalWorkingYears</th><td> 6.627185e-03</td><td> 1.637770e-03</td><td> 5.803171e-03</td><td>12.3618306   </td></tr>\n",
       "\t<tr><th scope=row>JobRole</th><td> 5.440004e-03</td><td> 6.557305e-03</td><td> 5.592069e-03</td><td>13.0758930   </td></tr>\n",
       "\t<tr><th scope=row>JobLevel</th><td> 4.098267e-03</td><td> 6.682377e-03</td><td> 4.531566e-03</td><td> 5.0436822   </td></tr>\n",
       "\t<tr><th scope=row>YearsAtCompany</th><td> 3.768119e-03</td><td> 2.842132e-03</td><td> 3.563592e-03</td><td> 9.0173071   </td></tr>\n",
       "\t<tr><th scope=row>StockOptionLevel</th><td> 1.508664e-03</td><td> 8.962303e-03</td><td> 2.673709e-03</td><td> 7.5621328   </td></tr>\n",
       "\t<tr><th scope=row>BusinessTravel</th><td> 1.874015e-03</td><td> 6.956468e-03</td><td> 2.663502e-03</td><td> 5.8941707   </td></tr>\n",
       "\t<tr><th scope=row>TrainingTimesLastYear</th><td> 1.786084e-03</td><td> 3.881181e-03</td><td> 2.121020e-03</td><td>10.9761123   </td></tr>\n",
       "\t<tr><th scope=row>YearsWithCurrManager</th><td> 1.470060e-03</td><td> 4.895745e-03</td><td> 2.016100e-03</td><td> 6.9295145   </td></tr>\n",
       "\t<tr><th scope=row>JobSatisfaction</th><td> 1.337352e-03</td><td> 3.433224e-03</td><td> 1.687540e-03</td><td> 6.8432965   </td></tr>\n",
       "\t<tr><th scope=row>YearsInCurrentRole</th><td> 1.869558e-03</td><td> 6.323198e-04</td><td> 1.666397e-03</td><td> 3.8228148   </td></tr>\n",
       "\t<tr><th scope=row>EnvironmentSatisfaction</th><td> 6.499082e-04</td><td> 5.943706e-03</td><td> 1.491508e-03</td><td> 7.9851534   </td></tr>\n",
       "\t<tr><th scope=row>JobInvolvement</th><td> 1.071581e-03</td><td> 3.229916e-03</td><td> 1.411964e-03</td><td> 6.9478791   </td></tr>\n",
       "\t<tr><th scope=row>MaritalStatus</th><td> 5.638676e-04</td><td> 4.523878e-03</td><td> 1.217020e-03</td><td> 4.4439322   </td></tr>\n",
       "\t<tr><th scope=row>EducationField</th><td> 1.376641e-03</td><td>-2.420028e-04</td><td> 1.111059e-03</td><td> 7.9370104   </td></tr>\n",
       "\t<tr><th scope=row>DailyRate</th><td> 5.544623e-04</td><td> 3.285652e-03</td><td> 1.019460e-03</td><td>12.6116632   </td></tr>\n",
       "\t<tr><th scope=row>NumCompaniesWorked</th><td> 5.916059e-04</td><td> 3.107558e-03</td><td> 9.674723e-04</td><td> 7.5390487   </td></tr>\n",
       "\t<tr><th scope=row>DistanceFromHome</th><td> 3.478554e-04</td><td> 1.115849e-03</td><td> 4.405439e-04</td><td>10.1236973   </td></tr>\n",
       "\t<tr><th scope=row>WorkLifeBalance</th><td> 2.409821e-04</td><td> 1.195445e-03</td><td> 3.714346e-04</td><td> 5.8613855   </td></tr>\n",
       "\t<tr><th scope=row>Education</th><td> 5.473526e-04</td><td>-7.518811e-04</td><td> 3.140239e-04</td><td> 5.6451981   </td></tr>\n",
       "\t<tr><th scope=row>RelationshipSatisfaction</th><td> 4.630583e-04</td><td>-5.372311e-04</td><td> 2.945709e-04</td><td> 5.2388813   </td></tr>\n",
       "\t<tr><th scope=row>Department</th><td> 2.527190e-04</td><td> 4.944191e-04</td><td> 2.834035e-04</td><td> 1.9645393   </td></tr>\n",
       "\t<tr><th scope=row>PercentSalaryHike</th><td> 4.779171e-04</td><td>-7.893110e-04</td><td> 2.607219e-04</td><td> 5.9513480   </td></tr>\n",
       "\t<tr><th scope=row>HourlyRate</th><td> 1.884515e-04</td><td> 8.720495e-05</td><td> 1.604484e-04</td><td>10.9688781   </td></tr>\n",
       "\t<tr><th scope=row>Gender</th><td> 1.009484e-04</td><td> 1.205964e-04</td><td> 1.026178e-04</td><td> 0.7424210   </td></tr>\n",
       "\t<tr><th scope=row>PerformanceRating</th><td> 6.073196e-05</td><td> 4.782626e-05</td><td> 5.888610e-05</td><td> 0.4212959   </td></tr>\n",
       "\t<tr><th scope=row>YearsSinceLastPromotion</th><td>-2.824974e-05</td><td>-7.252724e-05</td><td>-4.002606e-05</td><td> 3.8833449   </td></tr>\n",
       "\t<tr><th scope=row>MonthlyRate</th><td>-7.977994e-04</td><td>-1.306845e-03</td><td>-8.765661e-04</td><td>10.0256232   </td></tr>\n",
       "</tbody>\n",
       "</table>\n"
      ],
      "text/latex": [
       "\\begin{tabular}{r|llll}\n",
       "  & No & Yes & MeanDecreaseAccuracy & MeanDecreaseGini\\\\\n",
       "\\hline\n",
       "\tOverTime &  7.930639e-03 &  3.398424e-02 &  1.207003e-02 & 13.3545207   \\\\\n",
       "\tMonthlyIncome &  9.803501e-03 &  2.188013e-02 &  1.168454e-02 & 19.9108814   \\\\\n",
       "\tAge &  6.784437e-03 &  1.917304e-02 &  8.761606e-03 & 16.7395826   \\\\\n",
       "\tTotalWorkingYears &  6.627185e-03 &  1.637770e-03 &  5.803171e-03 & 12.3618306   \\\\\n",
       "\tJobRole &  5.440004e-03 &  6.557305e-03 &  5.592069e-03 & 13.0758930   \\\\\n",
       "\tJobLevel &  4.098267e-03 &  6.682377e-03 &  4.531566e-03 &  5.0436822   \\\\\n",
       "\tYearsAtCompany &  3.768119e-03 &  2.842132e-03 &  3.563592e-03 &  9.0173071   \\\\\n",
       "\tStockOptionLevel &  1.508664e-03 &  8.962303e-03 &  2.673709e-03 &  7.5621328   \\\\\n",
       "\tBusinessTravel &  1.874015e-03 &  6.956468e-03 &  2.663502e-03 &  5.8941707   \\\\\n",
       "\tTrainingTimesLastYear &  1.786084e-03 &  3.881181e-03 &  2.121020e-03 & 10.9761123   \\\\\n",
       "\tYearsWithCurrManager &  1.470060e-03 &  4.895745e-03 &  2.016100e-03 &  6.9295145   \\\\\n",
       "\tJobSatisfaction &  1.337352e-03 &  3.433224e-03 &  1.687540e-03 &  6.8432965   \\\\\n",
       "\tYearsInCurrentRole &  1.869558e-03 &  6.323198e-04 &  1.666397e-03 &  3.8228148   \\\\\n",
       "\tEnvironmentSatisfaction &  6.499082e-04 &  5.943706e-03 &  1.491508e-03 &  7.9851534   \\\\\n",
       "\tJobInvolvement &  1.071581e-03 &  3.229916e-03 &  1.411964e-03 &  6.9478791   \\\\\n",
       "\tMaritalStatus &  5.638676e-04 &  4.523878e-03 &  1.217020e-03 &  4.4439322   \\\\\n",
       "\tEducationField &  1.376641e-03 & -2.420028e-04 &  1.111059e-03 &  7.9370104   \\\\\n",
       "\tDailyRate &  5.544623e-04 &  3.285652e-03 &  1.019460e-03 & 12.6116632   \\\\\n",
       "\tNumCompaniesWorked &  5.916059e-04 &  3.107558e-03 &  9.674723e-04 &  7.5390487   \\\\\n",
       "\tDistanceFromHome &  3.478554e-04 &  1.115849e-03 &  4.405439e-04 & 10.1236973   \\\\\n",
       "\tWorkLifeBalance &  2.409821e-04 &  1.195445e-03 &  3.714346e-04 &  5.8613855   \\\\\n",
       "\tEducation &  5.473526e-04 & -7.518811e-04 &  3.140239e-04 &  5.6451981   \\\\\n",
       "\tRelationshipSatisfaction &  4.630583e-04 & -5.372311e-04 &  2.945709e-04 &  5.2388813   \\\\\n",
       "\tDepartment &  2.527190e-04 &  4.944191e-04 &  2.834035e-04 &  1.9645393   \\\\\n",
       "\tPercentSalaryHike &  4.779171e-04 & -7.893110e-04 &  2.607219e-04 &  5.9513480   \\\\\n",
       "\tHourlyRate &  1.884515e-04 &  8.720495e-05 &  1.604484e-04 & 10.9688781   \\\\\n",
       "\tGender &  1.009484e-04 &  1.205964e-04 &  1.026178e-04 &  0.7424210   \\\\\n",
       "\tPerformanceRating &  6.073196e-05 &  4.782626e-05 &  5.888610e-05 &  0.4212959   \\\\\n",
       "\tYearsSinceLastPromotion & -2.824974e-05 & -7.252724e-05 & -4.002606e-05 &  3.8833449   \\\\\n",
       "\tMonthlyRate & -7.977994e-04 & -1.306845e-03 & -8.765661e-04 & 10.0256232   \\\\\n",
       "\\end{tabular}\n"
      ],
      "text/markdown": [
       "\n",
       "| <!--/--> | No | Yes | MeanDecreaseAccuracy | MeanDecreaseGini | \n",
       "|---|---|---|---|---|---|---|---|---|---|---|---|---|---|---|---|---|---|---|---|---|---|---|---|---|---|---|---|---|---|\n",
       "| OverTime |  7.930639e-03 |  3.398424e-02 |  1.207003e-02 | 13.3545207    | \n",
       "| MonthlyIncome |  9.803501e-03 |  2.188013e-02 |  1.168454e-02 | 19.9108814    | \n",
       "| Age |  6.784437e-03 |  1.917304e-02 |  8.761606e-03 | 16.7395826    | \n",
       "| TotalWorkingYears |  6.627185e-03 |  1.637770e-03 |  5.803171e-03 | 12.3618306    | \n",
       "| JobRole |  5.440004e-03 |  6.557305e-03 |  5.592069e-03 | 13.0758930    | \n",
       "| JobLevel |  4.098267e-03 |  6.682377e-03 |  4.531566e-03 |  5.0436822    | \n",
       "| YearsAtCompany |  3.768119e-03 |  2.842132e-03 |  3.563592e-03 |  9.0173071    | \n",
       "| StockOptionLevel |  1.508664e-03 |  8.962303e-03 |  2.673709e-03 |  7.5621328    | \n",
       "| BusinessTravel |  1.874015e-03 |  6.956468e-03 |  2.663502e-03 |  5.8941707    | \n",
       "| TrainingTimesLastYear |  1.786084e-03 |  3.881181e-03 |  2.121020e-03 | 10.9761123    | \n",
       "| YearsWithCurrManager |  1.470060e-03 |  4.895745e-03 |  2.016100e-03 |  6.9295145    | \n",
       "| JobSatisfaction |  1.337352e-03 |  3.433224e-03 |  1.687540e-03 |  6.8432965    | \n",
       "| YearsInCurrentRole |  1.869558e-03 |  6.323198e-04 |  1.666397e-03 |  3.8228148    | \n",
       "| EnvironmentSatisfaction |  6.499082e-04 |  5.943706e-03 |  1.491508e-03 |  7.9851534    | \n",
       "| JobInvolvement |  1.071581e-03 |  3.229916e-03 |  1.411964e-03 |  6.9478791    | \n",
       "| MaritalStatus |  5.638676e-04 |  4.523878e-03 |  1.217020e-03 |  4.4439322    | \n",
       "| EducationField |  1.376641e-03 | -2.420028e-04 |  1.111059e-03 |  7.9370104    | \n",
       "| DailyRate |  5.544623e-04 |  3.285652e-03 |  1.019460e-03 | 12.6116632    | \n",
       "| NumCompaniesWorked |  5.916059e-04 |  3.107558e-03 |  9.674723e-04 |  7.5390487    | \n",
       "| DistanceFromHome |  3.478554e-04 |  1.115849e-03 |  4.405439e-04 | 10.1236973    | \n",
       "| WorkLifeBalance |  2.409821e-04 |  1.195445e-03 |  3.714346e-04 |  5.8613855    | \n",
       "| Education |  5.473526e-04 | -7.518811e-04 |  3.140239e-04 |  5.6451981    | \n",
       "| RelationshipSatisfaction |  4.630583e-04 | -5.372311e-04 |  2.945709e-04 |  5.2388813    | \n",
       "| Department |  2.527190e-04 |  4.944191e-04 |  2.834035e-04 |  1.9645393    | \n",
       "| PercentSalaryHike |  4.779171e-04 | -7.893110e-04 |  2.607219e-04 |  5.9513480    | \n",
       "| HourlyRate |  1.884515e-04 |  8.720495e-05 |  1.604484e-04 | 10.9688781    | \n",
       "| Gender |  1.009484e-04 |  1.205964e-04 |  1.026178e-04 |  0.7424210    | \n",
       "| PerformanceRating |  6.073196e-05 |  4.782626e-05 |  5.888610e-05 |  0.4212959    | \n",
       "| YearsSinceLastPromotion | -2.824974e-05 | -7.252724e-05 | -4.002606e-05 |  3.8833449    | \n",
       "| MonthlyRate | -7.977994e-04 | -1.306845e-03 | -8.765661e-04 | 10.0256232    | \n",
       "\n",
       "\n"
      ],
      "text/plain": [
       "                         No            Yes           MeanDecreaseAccuracy\n",
       "OverTime                  7.930639e-03  3.398424e-02  1.207003e-02       \n",
       "MonthlyIncome             9.803501e-03  2.188013e-02  1.168454e-02       \n",
       "Age                       6.784437e-03  1.917304e-02  8.761606e-03       \n",
       "TotalWorkingYears         6.627185e-03  1.637770e-03  5.803171e-03       \n",
       "JobRole                   5.440004e-03  6.557305e-03  5.592069e-03       \n",
       "JobLevel                  4.098267e-03  6.682377e-03  4.531566e-03       \n",
       "YearsAtCompany            3.768119e-03  2.842132e-03  3.563592e-03       \n",
       "StockOptionLevel          1.508664e-03  8.962303e-03  2.673709e-03       \n",
       "BusinessTravel            1.874015e-03  6.956468e-03  2.663502e-03       \n",
       "TrainingTimesLastYear     1.786084e-03  3.881181e-03  2.121020e-03       \n",
       "YearsWithCurrManager      1.470060e-03  4.895745e-03  2.016100e-03       \n",
       "JobSatisfaction           1.337352e-03  3.433224e-03  1.687540e-03       \n",
       "YearsInCurrentRole        1.869558e-03  6.323198e-04  1.666397e-03       \n",
       "EnvironmentSatisfaction   6.499082e-04  5.943706e-03  1.491508e-03       \n",
       "JobInvolvement            1.071581e-03  3.229916e-03  1.411964e-03       \n",
       "MaritalStatus             5.638676e-04  4.523878e-03  1.217020e-03       \n",
       "EducationField            1.376641e-03 -2.420028e-04  1.111059e-03       \n",
       "DailyRate                 5.544623e-04  3.285652e-03  1.019460e-03       \n",
       "NumCompaniesWorked        5.916059e-04  3.107558e-03  9.674723e-04       \n",
       "DistanceFromHome          3.478554e-04  1.115849e-03  4.405439e-04       \n",
       "WorkLifeBalance           2.409821e-04  1.195445e-03  3.714346e-04       \n",
       "Education                 5.473526e-04 -7.518811e-04  3.140239e-04       \n",
       "RelationshipSatisfaction  4.630583e-04 -5.372311e-04  2.945709e-04       \n",
       "Department                2.527190e-04  4.944191e-04  2.834035e-04       \n",
       "PercentSalaryHike         4.779171e-04 -7.893110e-04  2.607219e-04       \n",
       "HourlyRate                1.884515e-04  8.720495e-05  1.604484e-04       \n",
       "Gender                    1.009484e-04  1.205964e-04  1.026178e-04       \n",
       "PerformanceRating         6.073196e-05  4.782626e-05  5.888610e-05       \n",
       "YearsSinceLastPromotion  -2.824974e-05 -7.252724e-05 -4.002606e-05       \n",
       "MonthlyRate              -7.977994e-04 -1.306845e-03 -8.765661e-04       \n",
       "                         MeanDecreaseGini\n",
       "OverTime                 13.3545207      \n",
       "MonthlyIncome            19.9108814      \n",
       "Age                      16.7395826      \n",
       "TotalWorkingYears        12.3618306      \n",
       "JobRole                  13.0758930      \n",
       "JobLevel                  5.0436822      \n",
       "YearsAtCompany            9.0173071      \n",
       "StockOptionLevel          7.5621328      \n",
       "BusinessTravel            5.8941707      \n",
       "TrainingTimesLastYear    10.9761123      \n",
       "YearsWithCurrManager      6.9295145      \n",
       "JobSatisfaction           6.8432965      \n",
       "YearsInCurrentRole        3.8228148      \n",
       "EnvironmentSatisfaction   7.9851534      \n",
       "JobInvolvement            6.9478791      \n",
       "MaritalStatus             4.4439322      \n",
       "EducationField            7.9370104      \n",
       "DailyRate                12.6116632      \n",
       "NumCompaniesWorked        7.5390487      \n",
       "DistanceFromHome         10.1236973      \n",
       "WorkLifeBalance           5.8613855      \n",
       "Education                 5.6451981      \n",
       "RelationshipSatisfaction  5.2388813      \n",
       "Department                1.9645393      \n",
       "PercentSalaryHike         5.9513480      \n",
       "HourlyRate               10.9688781      \n",
       "Gender                    0.7424210      \n",
       "PerformanceRating         0.4212959      \n",
       "YearsSinceLastPromotion   3.8833449      \n",
       "MonthlyRate              10.0256232      "
      ]
     },
     "metadata": {},
     "output_type": "display_data"
    }
   ],
   "source": [
    "impvarTunedRf <- tunedRf$importance\n",
    "impvarTunedRf[order(impvarTunedRf[, 3], decreasing = TRUE), ]"
   ]
  },
  {
   "cell_type": "code",
   "execution_count": 26,
   "metadata": {},
   "outputs": [
    {
     "data": {
      "text/html": [
       "0.857142857142857"
      ],
      "text/latex": [
       "0.857142857142857"
      ],
      "text/markdown": [
       "0.857142857142857"
      ],
      "text/plain": [
       "[1] 0.8571429"
      ]
     },
     "metadata": {},
     "output_type": "display_data"
    }
   ],
   "source": [
    "predictionRf <- predict(tunedRf, test, type = \"class\")\n",
    "\n",
    "# RandomForest Accuracy Confusion matrix\n",
    "t2 <- table(test$Attrition, predictionRf)\n",
    "\n",
    "# RandomForest model accuracy\n",
    "result_RF <- (t2[1] + t2[4])/(nrow(test))\n",
    "result_RF"
   ]
  },
  {
   "cell_type": "code",
   "execution_count": 27,
   "metadata": {},
   "outputs": [],
   "source": [
    "rm(tunedRf, modelRf) # To keep system performing well, removing environment variable as it is no longer needed."
   ]
  },
  {
   "cell_type": "markdown",
   "metadata": {},
   "source": [
    "### Neural Network"
   ]
  },
  {
   "cell_type": "code",
   "execution_count": 28,
   "metadata": {},
   "outputs": [
    {
     "name": "stdout",
     "output_type": "stream",
     "text": [
      "# weights:  1381\n",
      "initial  value 1029.171959 \n",
      "iter  10 value 441.441059\n",
      "iter  20 value 436.136526\n",
      "iter  30 value 433.936874\n",
      "iter  40 value 431.309999\n",
      "iter  50 value 430.688294\n",
      "iter  60 value 429.836410\n",
      "iter  70 value 429.678959\n",
      "iter  80 value 429.516086\n",
      "iter  90 value 429.232400\n",
      "iter 100 value 428.282240\n",
      "iter 110 value 425.025985\n",
      "iter 120 value 424.488485\n",
      "iter 130 value 422.402859\n",
      "iter 140 value 421.744672\n",
      "iter 150 value 421.451484\n",
      "iter 160 value 420.813243\n",
      "iter 170 value 419.458870\n",
      "iter 180 value 419.316460\n",
      "iter 190 value 418.923710\n",
      "iter 200 value 418.522324\n",
      "iter 210 value 418.300074\n",
      "iter 220 value 418.279633\n",
      "iter 230 value 418.250245\n",
      "iter 240 value 418.130164\n",
      "iter 250 value 417.967073\n",
      "iter 260 value 417.911948\n",
      "iter 270 value 417.795999\n",
      "iter 280 value 417.784492\n",
      "iter 290 value 417.726315\n",
      "iter 300 value 417.502958\n",
      "iter 310 value 416.903362\n",
      "iter 320 value 416.447410\n",
      "iter 330 value 416.341454\n",
      "iter 340 value 415.990381\n",
      "iter 350 value 415.941299\n",
      "iter 360 value 415.769387\n",
      "iter 370 value 415.697899\n",
      "iter 380 value 415.580501\n",
      "iter 390 value 415.534688\n",
      "iter 400 value 415.304526\n",
      "iter 410 value 415.287643\n",
      "iter 420 value 414.976723\n",
      "iter 430 value 414.939964\n",
      "iter 440 value 414.796020\n",
      "iter 450 value 414.696636\n",
      "iter 460 value 414.185663\n",
      "iter 470 value 414.087334\n",
      "iter 480 value 413.308905\n",
      "iter 490 value 413.041095\n",
      "iter 500 value 412.886224\n",
      "iter 510 value 412.550522\n",
      "iter 520 value 411.384706\n",
      "iter 530 value 410.736265\n",
      "iter 540 value 410.703998\n",
      "iter 550 value 410.701080\n",
      "iter 560 value 410.682625\n",
      "iter 570 value 410.647569\n",
      "iter 580 value 410.596567\n",
      "iter 590 value 410.539881\n",
      "iter 600 value 410.475518\n",
      "iter 610 value 410.378236\n",
      "iter 620 value 410.237489\n",
      "iter 630 value 409.323467\n",
      "iter 640 value 408.489811\n",
      "iter 650 value 408.369659\n",
      "iter 660 value 407.314180\n",
      "iter 670 value 406.064894\n",
      "iter 680 value 405.637095\n",
      "iter 690 value 404.724939\n",
      "iter 700 value 404.102818\n",
      "iter 710 value 403.950481\n",
      "iter 720 value 403.932557\n",
      "iter 730 value 403.906893\n",
      "iter 740 value 403.869066\n",
      "iter 750 value 403.854363\n",
      "iter 760 value 403.844969\n",
      "iter 770 value 403.840015\n",
      "iter 780 value 403.838445\n",
      "iter 790 value 403.837808\n",
      "final  value 403.837491 \n",
      "converged\n"
     ]
    }
   ],
   "source": [
    "## Using the NNet package(2 lines of code) No need to convert factors to\n",
    "## numericals as in neuralnetwork package\n",
    "library(nnet)\n",
    "set.seed(1234)\n",
    "modelNN <- nnet(Attrition ~ ., train, size = 20, decay = 0.0015, maxit = 2000, MaxNWts = 2000)"
   ]
  },
  {
   "cell_type": "code",
   "execution_count": 29,
   "metadata": {},
   "outputs": [
    {
     "data": {
      "text/plain": [
       "predictionNN\n",
       " No Yes \n",
       "440   1 "
      ]
     },
     "metadata": {},
     "output_type": "display_data"
    }
   ],
   "source": [
    "predictionNN <- predict(modelNN, test, type = (\"class\"))\n",
    "table(predictionNN)"
   ]
  },
  {
   "cell_type": "code",
   "execution_count": 30,
   "metadata": {},
   "outputs": [
    {
     "name": "stderr",
     "output_type": "stream",
     "text": [
      "SHA-1 hash of file is 74c80bd5ddbc17ab3ae5ece9c0ed9beb612e87ef\n",
      "Loading required package: scales\n",
      "Loading required package: reshape\n"
     ]
    },
    {
     "data": {
      "image/png": "[encoded data removed]",
      "text/plain": [
       "plot without title"
      ]
     },
     "metadata": {},
     "output_type": "display_data"
    }
   ],
   "source": [
    "library(devtools)\n",
    "source_url(\"https://gist.githubusercontent.com/fawda123/7471137/raw/466c1474d0a505ff044412703516c34f1a4684a5/nnet_plot_update.r\")\n",
    "plot.nnet(modelNN, cex.val = 0.5, pos.col = \"red\", neg.col = \"gray\")"
   ]
  },
  {
   "cell_type": "code",
   "execution_count": 31,
   "metadata": {},
   "outputs": [
    {
     "data": {
      "text/html": [
       "0.836734693877551"
      ],
      "text/latex": [
       "0.836734693877551"
      ],
      "text/markdown": [
       "0.836734693877551"
      ],
      "text/plain": [
       "[1] 0.8367347"
      ]
     },
     "metadata": {},
     "output_type": "display_data"
    }
   ],
   "source": [
    "# Counfusion Matrix\n",
    "t3 <- table(test$Attrition, predictionNN)\n",
    "\n",
    "# NeuralNetwork model accuracy\n",
    "result_NN <- (t3[1] + t3[4])/(nrow(test))\n",
    "result_NN"
   ]
  },
  {
   "cell_type": "code",
   "execution_count": 32,
   "metadata": {},
   "outputs": [],
   "source": [
    "rm(modelNN) # To keep system performing well, removing environment variable as it is no longer needed."
   ]
  },
  {
   "cell_type": "markdown",
   "metadata": {},
   "source": [
    "### Ensembling"
   ]
  },
  {
   "cell_type": "code",
   "execution_count": 33,
   "metadata": {},
   "outputs": [
    {
     "data": {
      "text/html": [
       "0.857142857142857"
      ],
      "text/latex": [
       "0.857142857142857"
      ],
      "text/markdown": [
       "0.857142857142857"
      ],
      "text/plain": [
       "[1] 0.8571429"
      ]
     },
     "metadata": {},
     "output_type": "display_data"
    }
   ],
   "source": [
    "predictions <- data.frame(predictionCart = predictionCart, predictionRf = predictionRf, \n",
    "    predictionNN = predictionNN)\n",
    "\n",
    "predictions$predictionEnsemble <- as.factor(\n",
    "    ifelse(predictions$predictionCart == \"Yes\" & predictions$predictionRf == \"Yes\", \"Yes\",\n",
    "    ifelse(predictions$predictionCart == \"Yes\" & predictions$predictionNN == \"Yes\", \"Yes\",\n",
    "    ifelse(predictions$predictionRf == \"Yes\" & predictions$predictionNN == \"Yes\", \"Yes\", \"No\"))))\n",
    "\n",
    "# Confusion Matrix\n",
    "t4 <- table(test$Attrition, predictions$predictionEnsemble)\n",
    "\n",
    "# Ensembeling Accuracy\n",
    "result_Ensembling <- (t4[1] + t4[4])/(nrow(test))\n",
    "result_Ensembling"
   ]
  },
  {
   "cell_type": "markdown",
   "metadata": {},
   "source": [
    "## Summary  <a id='summarize'></a>"
   ]
  },
  {
   "cell_type": "code",
   "execution_count": 34,
   "metadata": {},
   "outputs": [
    {
     "name": "stdout",
     "output_type": "stream",
     "text": [
      "Here, from created models we have got the prediction accuracy as follows, it is suitable to choose simple and high accuracy model for predictions.\n",
      " \n",
      "\tCART = 0.8367347 \n",
      "\tRandom Forest = 0.8571429 \n",
      "\tNeural Net = 0.8367347 \n",
      "\tEnsembled Model = 0.8571429"
     ]
    }
   ],
   "source": [
    "cat(\"Here, from created models we have got the prediction accuracy as follows, it is suitable to choose simple and high accuracy model for predictions.\\n \\n\\tCART =\", \n",
    "    result_CART, \"\\n\\tRandom Forest =\", result_RF, \"\\n\\tNeural Net =\", result_NN, \n",
    "    \"\\n\\tEnsembled Model =\", result_Ensembling)"
   ]
  },
  {
   "cell_type": "code",
   "execution_count": null,
   "metadata": {},
   "outputs": [],
   "source": []
  }
 ],
 "metadata": {
  "kernelspec": {
   "display_name": "R",
   "language": "R",
   "name": "ir"
  },
  "language_info": {
   "codemirror_mode": "r",
   "file_extension": ".r",
   "mimetype": "text/x-r-source",
   "name": "R",
   "pygments_lexer": "r",
   "version": "3.5.1"
  },
  "toc": {
   "base_numbering": 1,
   "nav_menu": {},
   "number_sections": true,
   "sideBar": true,
   "skip_h1_title": true,
   "title_cell": "Table of Contents",
   "title_sidebar": "Contents",
   "toc_cell": true,
   "toc_position": {},
   "toc_section_display": true,
   "toc_window_display": false
  },
  "varInspector": {
   "cols": {
    "lenName": 16,
    "lenType": 16,
    "lenVar": 40
   },
   "kernels_config": {
    "python": {
     "delete_cmd_postfix": "",
     "delete_cmd_prefix": "del ",
     "library": "var_list.py",
     "varRefreshCmd": "print(var_dic_list())"
    },
    "r": {
     "delete_cmd_postfix": ") ",
     "delete_cmd_prefix": "rm(",
     "library": "var_list.r",
     "varRefreshCmd": "cat(var_dic_list()) "
    }
   },
   "position": {
    "height": "309.85px",
    "left": "799px",
    "right": "82px",
    "top": "135px",
    "width": "485px"
   },
   "types_to_exclude": [
    "module",
    "function",
    "builtin_function_or_method",
    "instance",
    "_Feature"
   ],
   "window_display": false
  }
 },
 "nbformat": 4,
 "nbformat_minor": 2
}
