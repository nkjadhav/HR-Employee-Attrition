{
 "cells": [
  {
   "cell_type": "markdown",
   "metadata": {},
   "source": [
    "# Employee Attrition Case Study"
   ]
  },
  {
   "cell_type": "markdown",
   "metadata": {},
   "source": [
    "## Problem Statement\n",
    "1. Data Import (Target variable is “Attrition” column)\n",
    "2. Split the data in Dev & Hold Out sample (70:30)\n",
    "3. Perform Exploratory Data Analysis\n",
    "4. Identify columns which are of no use. drop those columns\n",
    "5. Write Hypothesis and validate the Hypothesis\n",
    "6. Build Neural Network Model (Development sample)\n",
    "7. Validate NN model on Hold Out. If need be improvise\n",
    "8. Build Random Forest Model\n",
    "9. Validate RF Model\n",
    "10. Compare NN, RF and CART model\n",
    "11. Combine NN, RF and CART into Ensemble Model\n",
    "12. Check whether Ensemble Model Performance outperforms the individual models"
   ]
  },
  {
   "cell_type": "markdown",
   "metadata": {},
   "source": [
    "## Data Preparation "
   ]
  },
  {
   "cell_type": "code",
   "execution_count": 3,
   "metadata": {},
   "outputs": [],
   "source": [
    "library(caret)"
   ]
  },
  {
   "cell_type": "code",
   "execution_count": 28,
   "metadata": {},
   "outputs": [
    {
     "data": {
      "text/html": [
       "<table>\n",
       "<thead><tr><th scope=col>Age</th><th scope=col>Attrition</th><th scope=col>BusinessTravel</th><th scope=col>DailyRate</th><th scope=col>Department</th><th scope=col>DistanceFromHome</th><th scope=col>Education</th><th scope=col>EducationField</th><th scope=col>EmployeeCount</th><th scope=col>EmployeeNumber</th><th scope=col>...</th><th scope=col>RelationshipSatisfaction</th><th scope=col>StandardHours</th><th scope=col>StockOptionLevel</th><th scope=col>TotalWorkingYears</th><th scope=col>TrainingTimesLastYear</th><th scope=col>WorkLifeBalance</th><th scope=col>YearsAtCompany</th><th scope=col>YearsInCurrentRole</th><th scope=col>YearsSinceLastPromotion</th><th scope=col>YearsWithCurrManager</th></tr></thead>\n",
       "<tbody>\n",
       "\t<tr><td>41                    </td><td>Yes                   </td><td>Travel_Rarely         </td><td>1102                  </td><td>Sales                 </td><td>1                     </td><td>2                     </td><td>Life Sciences         </td><td>1                     </td><td>1                     </td><td>...                   </td><td>1                     </td><td>80                    </td><td>0                     </td><td> 8                    </td><td>0                     </td><td>1                     </td><td> 6                    </td><td>4                     </td><td>0                     </td><td>5                     </td></tr>\n",
       "\t<tr><td>49                        </td><td>No                        </td><td>Travel_Frequently         </td><td> 279                      </td><td>Research &amp; Development</td><td>8                         </td><td>1                         </td><td>Life Sciences             </td><td>1                         </td><td>2                         </td><td>...                       </td><td>4                         </td><td>80                        </td><td>1                         </td><td>10                        </td><td>3                         </td><td>3                         </td><td>10                        </td><td>7                         </td><td>1                         </td><td>7                         </td></tr>\n",
       "\t<tr><td>37                                                       </td><td>Yes                                                      </td><td><span style=white-space:pre-wrap>Travel_Rarely    </span></td><td>1373                                                     </td><td>Research &amp; Development                               </td><td>2                                                        </td><td>2                                                        </td><td><span style=white-space:pre-wrap>Other        </span>    </td><td>1                                                        </td><td>4                                                        </td><td>...                                                      </td><td>2                                                        </td><td>80                                                       </td><td>0                                                        </td><td> 7                                                       </td><td>3                                                        </td><td>3                                                        </td><td> 0                                                       </td><td>0                                                        </td><td>0                                                        </td><td>0                                                        </td></tr>\n",
       "\t<tr><td>33                        </td><td>No                        </td><td>Travel_Frequently         </td><td>1392                      </td><td>Research &amp; Development</td><td>3                         </td><td>4                         </td><td>Life Sciences             </td><td>1                         </td><td>5                         </td><td>...                       </td><td>3                         </td><td>80                        </td><td>0                         </td><td> 8                        </td><td>3                         </td><td>3                         </td><td> 8                        </td><td>7                         </td><td>3                         </td><td>0                         </td></tr>\n",
       "\t<tr><td>27                                                       </td><td>No                                                       </td><td><span style=white-space:pre-wrap>Travel_Rarely    </span></td><td> 591                                                     </td><td>Research &amp; Development                               </td><td>2                                                        </td><td>1                                                        </td><td><span style=white-space:pre-wrap>Medical      </span>    </td><td>1                                                        </td><td>7                                                        </td><td>...                                                      </td><td>4                                                        </td><td>80                                                       </td><td>1                                                        </td><td> 6                                                       </td><td>3                                                        </td><td>3                                                        </td><td> 2                                                       </td><td>2                                                        </td><td>2                                                        </td><td>2                                                        </td></tr>\n",
       "\t<tr><td>32                        </td><td>No                        </td><td>Travel_Frequently         </td><td>1005                      </td><td>Research &amp; Development</td><td>2                         </td><td>2                         </td><td>Life Sciences             </td><td>1                         </td><td>8                         </td><td>...                       </td><td>3                         </td><td>80                        </td><td>0                         </td><td> 8                        </td><td>2                         </td><td>2                         </td><td> 7                        </td><td>7                         </td><td>3                         </td><td>6                         </td></tr>\n",
       "</tbody>\n",
       "</table>\n"
      ],
      "text/latex": [
       "\\begin{tabular}{r|lllllllllllllllllllllllllllllllllll}\n",
       " Age & Attrition & BusinessTravel & DailyRate & Department & DistanceFromHome & Education & EducationField & EmployeeCount & EmployeeNumber & ... & RelationshipSatisfaction & StandardHours & StockOptionLevel & TotalWorkingYears & TrainingTimesLastYear & WorkLifeBalance & YearsAtCompany & YearsInCurrentRole & YearsSinceLastPromotion & YearsWithCurrManager\\\\\n",
       "\\hline\n",
       "\t 41                     & Yes                    & Travel\\_Rarely        & 1102                   & Sales                  & 1                      & 2                      & Life Sciences          & 1                      & 1                      & ...                    & 1                      & 80                     & 0                      &  8                     & 0                      & 1                      &  6                     & 4                      & 0                      & 5                     \\\\\n",
       "\t 49                       & No                       & Travel\\_Frequently      &  279                     & Research \\& Development & 8                        & 1                        & Life Sciences            & 1                        & 2                        & ...                      & 4                        & 80                       & 1                        & 10                       & 3                        & 3                        & 10                       & 7                        & 1                        & 7                       \\\\\n",
       "\t 37                       & Yes                      & Travel\\_Rarely          & 1373                     & Research \\& Development & 2                        & 2                        & Other                    & 1                        & 4                        & ...                      & 2                        & 80                       & 0                        &  7                       & 3                        & 3                        &  0                       & 0                        & 0                        & 0                       \\\\\n",
       "\t 33                       & No                       & Travel\\_Frequently      & 1392                     & Research \\& Development & 3                        & 4                        & Life Sciences            & 1                        & 5                        & ...                      & 3                        & 80                       & 0                        &  8                       & 3                        & 3                        &  8                       & 7                        & 3                        & 0                       \\\\\n",
       "\t 27                       & No                       & Travel\\_Rarely          &  591                     & Research \\& Development & 2                        & 1                        & Medical                  & 1                        & 7                        & ...                      & 4                        & 80                       & 1                        &  6                       & 3                        & 3                        &  2                       & 2                        & 2                        & 2                       \\\\\n",
       "\t 32                       & No                       & Travel\\_Frequently      & 1005                     & Research \\& Development & 2                        & 2                        & Life Sciences            & 1                        & 8                        & ...                      & 3                        & 80                       & 0                        &  8                       & 2                        & 2                        &  7                       & 7                        & 3                        & 6                       \\\\\n",
       "\\end{tabular}\n"
      ],
      "text/markdown": [
       "\n",
       "Age | Attrition | BusinessTravel | DailyRate | Department | DistanceFromHome | Education | EducationField | EmployeeCount | EmployeeNumber | ... | RelationshipSatisfaction | StandardHours | StockOptionLevel | TotalWorkingYears | TrainingTimesLastYear | WorkLifeBalance | YearsAtCompany | YearsInCurrentRole | YearsSinceLastPromotion | YearsWithCurrManager | \n",
       "|---|---|---|---|---|---|\n",
       "| 41                     | Yes                    | Travel_Rarely          | 1102                   | Sales                  | 1                      | 2                      | Life Sciences          | 1                      | 1                      | ...                    | 1                      | 80                     | 0                      |  8                     | 0                      | 1                      |  6                     | 4                      | 0                      | 5                      | \n",
       "| 49                     | No                     | Travel_Frequently      |  279                   | Research & Development | 8                      | 1                      | Life Sciences          | 1                      | 2                      | ...                    | 4                      | 80                     | 1                      | 10                     | 3                      | 3                      | 10                     | 7                      | 1                      | 7                      | \n",
       "| 37                     | Yes                    | Travel_Rarely          | 1373                   | Research & Development | 2                      | 2                      | Other                  | 1                      | 4                      | ...                    | 2                      | 80                     | 0                      |  7                     | 3                      | 3                      |  0                     | 0                      | 0                      | 0                      | \n",
       "| 33                     | No                     | Travel_Frequently      | 1392                   | Research & Development | 3                      | 4                      | Life Sciences          | 1                      | 5                      | ...                    | 3                      | 80                     | 0                      |  8                     | 3                      | 3                      |  8                     | 7                      | 3                      | 0                      | \n",
       "| 27                     | No                     | Travel_Rarely          |  591                   | Research & Development | 2                      | 1                      | Medical                | 1                      | 7                      | ...                    | 4                      | 80                     | 1                      |  6                     | 3                      | 3                      |  2                     | 2                      | 2                      | 2                      | \n",
       "| 32                     | No                     | Travel_Frequently      | 1005                   | Research & Development | 2                      | 2                      | Life Sciences          | 1                      | 8                      | ...                    | 3                      | 80                     | 0                      |  8                     | 2                      | 2                      |  7                     | 7                      | 3                      | 6                      | \n",
       "\n",
       "\n"
      ],
      "text/plain": [
       "  Age Attrition BusinessTravel    DailyRate Department            \n",
       "1 41  Yes       Travel_Rarely     1102      Sales                 \n",
       "2 49  No        Travel_Frequently  279      Research & Development\n",
       "3 37  Yes       Travel_Rarely     1373      Research & Development\n",
       "4 33  No        Travel_Frequently 1392      Research & Development\n",
       "5 27  No        Travel_Rarely      591      Research & Development\n",
       "6 32  No        Travel_Frequently 1005      Research & Development\n",
       "  DistanceFromHome Education EducationField EmployeeCount EmployeeNumber ...\n",
       "1 1                2         Life Sciences  1             1              ...\n",
       "2 8                1         Life Sciences  1             2              ...\n",
       "3 2                2         Other          1             4              ...\n",
       "4 3                4         Life Sciences  1             5              ...\n",
       "5 2                1         Medical        1             7              ...\n",
       "6 2                2         Life Sciences  1             8              ...\n",
       "  RelationshipSatisfaction StandardHours StockOptionLevel TotalWorkingYears\n",
       "1 1                        80            0                 8               \n",
       "2 4                        80            1                10               \n",
       "3 2                        80            0                 7               \n",
       "4 3                        80            0                 8               \n",
       "5 4                        80            1                 6               \n",
       "6 3                        80            0                 8               \n",
       "  TrainingTimesLastYear WorkLifeBalance YearsAtCompany YearsInCurrentRole\n",
       "1 0                     1                6             4                 \n",
       "2 3                     3               10             7                 \n",
       "3 3                     3                0             0                 \n",
       "4 3                     3                8             7                 \n",
       "5 3                     3                2             2                 \n",
       "6 2                     2                7             7                 \n",
       "  YearsSinceLastPromotion YearsWithCurrManager\n",
       "1 0                       5                   \n",
       "2 1                       7                   \n",
       "3 0                       0                   \n",
       "4 3                       0                   \n",
       "5 2                       2                   \n",
       "6 3                       6                   "
      ]
     },
     "metadata": {},
     "output_type": "display_data"
    }
   ],
   "source": [
    "# Importing data\n",
    "emp_raw <- read.csv(\"HR_Employee_Attrition_Data.csv\")\n",
    "emp <- data.frame(emp_raw)\n",
    "head(emp)"
   ]
  },
  {
   "cell_type": "code",
   "execution_count": 29,
   "metadata": {},
   "outputs": [
    {
     "data": {
      "text/html": [
       "<table>\n",
       "<thead><tr><th scope=col>EmployeeCount</th><th scope=col>Over18</th><th scope=col>StandardHours</th></tr></thead>\n",
       "<tbody>\n",
       "\t<tr><td>1 </td><td>Y </td><td>80</td></tr>\n",
       "\t<tr><td>1 </td><td>Y </td><td>80</td></tr>\n",
       "\t<tr><td>1 </td><td>Y </td><td>80</td></tr>\n",
       "\t<tr><td>1 </td><td>Y </td><td>80</td></tr>\n",
       "\t<tr><td>1 </td><td>Y </td><td>80</td></tr>\n",
       "\t<tr><td>1 </td><td>Y </td><td>80</td></tr>\n",
       "</tbody>\n",
       "</table>\n"
      ],
      "text/latex": [
       "\\begin{tabular}{r|lll}\n",
       " EmployeeCount & Over18 & StandardHours\\\\\n",
       "\\hline\n",
       "\t 1  & Y  & 80\\\\\n",
       "\t 1  & Y  & 80\\\\\n",
       "\t 1  & Y  & 80\\\\\n",
       "\t 1  & Y  & 80\\\\\n",
       "\t 1  & Y  & 80\\\\\n",
       "\t 1  & Y  & 80\\\\\n",
       "\\end{tabular}\n"
      ],
      "text/markdown": [
       "\n",
       "EmployeeCount | Over18 | StandardHours | \n",
       "|---|---|---|---|---|---|\n",
       "| 1  | Y  | 80 | \n",
       "| 1  | Y  | 80 | \n",
       "| 1  | Y  | 80 | \n",
       "| 1  | Y  | 80 | \n",
       "| 1  | Y  | 80 | \n",
       "| 1  | Y  | 80 | \n",
       "\n",
       "\n"
      ],
      "text/plain": [
       "  EmployeeCount Over18 StandardHours\n",
       "1 1             Y      80           \n",
       "2 1             Y      80           \n",
       "3 1             Y      80           \n",
       "4 1             Y      80           \n",
       "5 1             Y      80           \n",
       "6 1             Y      80           "
      ]
     },
     "metadata": {},
     "output_type": "display_data"
    }
   ],
   "source": [
    "head(emp[nearZeroVar(emp)])"
   ]
  },
  {
   "cell_type": "markdown",
   "metadata": {},
   "source": [
    "Dropping the the columns with constant values or no variability.\n",
    "\n",
    "- Drop Over18 as there is no variability, all are Y.\n",
    "- Drop EmployeeCount as there is no variability, all are 1.\n",
    "- Drop StandardHours as there is no variability, all are 80.\n",
    "- Also, drop Employee Number as it is just an identifier."
   ]
  },
  {
   "cell_type": "code",
   "execution_count": 44,
   "metadata": {},
   "outputs": [],
   "source": [
    "emp$Over18 <- NULL\n",
    "emp$EmployeeCount <- NULL\n",
    "emp$StandardHours <- NULL\n",
    "emp$EmployeeNumber <- NULL"
   ]
  },
  {
   "cell_type": "markdown",
   "metadata": {},
   "source": [
    "There are multiple numeric variables that are actually factors, convert these to factors."
   ]
  },
  {
   "cell_type": "code",
   "execution_count": 31,
   "metadata": {},
   "outputs": [],
   "source": [
    "emp$Education <- as.factor(emp$Education)\n",
    "emp$EnvironmentSatisfaction <- as.factor(emp$EnvironmentSatisfaction)\n",
    "emp$JobInvolvement <- as.factor(emp$JobInvolvement)\n",
    "emp$JobLevel <- as.factor(emp$JobLevel)\n",
    "emp$JobSatisfaction <- as.factor(emp$JobSatisfaction)\n",
    "emp$PerformanceRating <- as.factor(emp$PerformanceRating)\n",
    "emp$RelationshipSatisfaction <- as.factor(emp$RelationshipSatisfaction)\n",
    "emp$StockOptionLevel <- as.factor(emp$StockOptionLevel)\n",
    "emp$TrainingTimesLastYear <- as.factor(emp$TrainingTimesLastYear)\n",
    "emp$WorkLifeBalance <- as.factor(emp$WorkLifeBalance)"
   ]
  },
  {
   "cell_type": "markdown",
   "metadata": {},
   "source": [
    "## Exploratory Data Analysis"
   ]
  },
  {
   "cell_type": "markdown",
   "metadata": {},
   "source": [
    "### Attrition"
   ]
  },
  {
   "cell_type": "code",
   "execution_count": 32,
   "metadata": {},
   "outputs": [
    {
     "data": {
      "text/html": [
       "1470"
      ],
      "text/latex": [
       "1470"
      ],
      "text/markdown": [
       "1470"
      ],
      "text/plain": [
       "[1] 1470"
      ]
     },
     "metadata": {},
     "output_type": "display_data"
    }
   ],
   "source": [
    "nrow(emp)"
   ]
  },
  {
   "cell_type": "code",
   "execution_count": 33,
   "metadata": {},
   "outputs": [
    {
     "data": {
      "text/plain": [
       "\n",
       "  No  Yes \n",
       "1233  237 "
      ]
     },
     "metadata": {},
     "output_type": "display_data"
    }
   ],
   "source": [
    "table(emp$Attrition)"
   ]
  },
  {
   "cell_type": "code",
   "execution_count": 34,
   "metadata": {},
   "outputs": [
    {
     "data": {
      "text/plain": [
       "\n",
       "       No       Yes \n",
       "0.8387755 0.1612245 "
      ]
     },
     "metadata": {},
     "output_type": "display_data"
    }
   ],
   "source": [
    "prop.table(table(emp$Attrition))"
   ]
  },
  {
   "cell_type": "code",
   "execution_count": 35,
   "metadata": {},
   "outputs": [
    {
     "data": {},
     "metadata": {},
     "output_type": "display_data"
    },
    {
     "data": {
      "image/png": "[encoded data removed]",
      "text/plain": [
       "plot without title"
      ]
     },
     "metadata": {},
     "output_type": "display_data"
    }
   ],
   "source": [
    "ggplot(emp, aes(Attrition, fill = factor(Attrition))) + geom_bar()"
   ]
  },
  {
   "cell_type": "markdown",
   "metadata": {},
   "source": [
    "### Finding Top 5 Important Features"
   ]
  },
  {
   "cell_type": "code",
   "execution_count": 117,
   "metadata": {},
   "outputs": [
    {
     "name": "stdout",
     "output_type": "stream",
     "text": [
      "\n",
      "Recursive feature selection\n",
      "\n",
      "Outer resampling method: Cross-Validated (10 fold) \n",
      "\n",
      "Resampling performance over subset size:\n",
      "\n",
      " Variables Accuracy  Kappa AccuracySD KappaSD Selected\n",
      "         1   0.8388 0.0000   0.002838 0.00000         \n",
      "         2   0.8456 0.1346   0.007706 0.12043         \n",
      "         3   0.8435 0.1374   0.013339 0.09134         \n",
      "         4   0.8408 0.2425   0.020825 0.10350         \n",
      "         5   0.8381 0.2235   0.014043 0.07712         \n",
      "         6   0.8476 0.2774   0.023098 0.12570         \n",
      "         7   0.8476 0.2810   0.013990 0.09225         \n",
      "         8   0.8496 0.2746   0.013252 0.08005         \n",
      "        30   0.8578 0.2183   0.011397 0.10915        *\n",
      "\n",
      "The top 5 variables (out of 30):\n",
      "   OverTime, MonthlyIncome, JobRole, Age, StockOptionLevel\n",
      "\n"
     ]
    },
    {
     "data": {
      "text/html": [
       "<ol class=list-inline>\n",
       "\t<li>'OverTime'</li>\n",
       "\t<li>'MonthlyIncome'</li>\n",
       "\t<li>'JobRole'</li>\n",
       "\t<li>'Age'</li>\n",
       "\t<li>'StockOptionLevel'</li>\n",
       "\t<li>'JobLevel'</li>\n",
       "\t<li>'TotalWorkingYears'</li>\n",
       "\t<li>'YearsAtCompany'</li>\n",
       "\t<li>'MaritalStatus'</li>\n",
       "\t<li>'YearsWithCurrManager'</li>\n",
       "\t<li>'YearsInCurrentRole'</li>\n",
       "\t<li>'BusinessTravel'</li>\n",
       "\t<li>'EnvironmentSatisfaction'</li>\n",
       "\t<li>'WorkLifeBalance'</li>\n",
       "\t<li>'JobSatisfaction'</li>\n",
       "\t<li>'NumCompaniesWorked'</li>\n",
       "\t<li>'JobInvolvement'</li>\n",
       "\t<li>'Department'</li>\n",
       "\t<li>'EducationField'</li>\n",
       "\t<li>'YearsSinceLastPromotion'</li>\n",
       "\t<li>'DistanceFromHome'</li>\n",
       "\t<li>'RelationshipSatisfaction'</li>\n",
       "\t<li>'PercentSalaryHike'</li>\n",
       "\t<li>'PerformanceRating'</li>\n",
       "\t<li>'TrainingTimesLastYear'</li>\n",
       "\t<li>'Gender'</li>\n",
       "\t<li>'DailyRate'</li>\n",
       "\t<li>'HourlyRate'</li>\n",
       "\t<li>'Education'</li>\n",
       "\t<li>'MonthlyRate'</li>\n",
       "</ol>\n"
      ],
      "text/latex": [
       "\\begin{enumerate*}\n",
       "\\item 'OverTime'\n",
       "\\item 'MonthlyIncome'\n",
       "\\item 'JobRole'\n",
       "\\item 'Age'\n",
       "\\item 'StockOptionLevel'\n",
       "\\item 'JobLevel'\n",
       "\\item 'TotalWorkingYears'\n",
       "\\item 'YearsAtCompany'\n",
       "\\item 'MaritalStatus'\n",
       "\\item 'YearsWithCurrManager'\n",
       "\\item 'YearsInCurrentRole'\n",
       "\\item 'BusinessTravel'\n",
       "\\item 'EnvironmentSatisfaction'\n",
       "\\item 'WorkLifeBalance'\n",
       "\\item 'JobSatisfaction'\n",
       "\\item 'NumCompaniesWorked'\n",
       "\\item 'JobInvolvement'\n",
       "\\item 'Department'\n",
       "\\item 'EducationField'\n",
       "\\item 'YearsSinceLastPromotion'\n",
       "\\item 'DistanceFromHome'\n",
       "\\item 'RelationshipSatisfaction'\n",
       "\\item 'PercentSalaryHike'\n",
       "\\item 'PerformanceRating'\n",
       "\\item 'TrainingTimesLastYear'\n",
       "\\item 'Gender'\n",
       "\\item 'DailyRate'\n",
       "\\item 'HourlyRate'\n",
       "\\item 'Education'\n",
       "\\item 'MonthlyRate'\n",
       "\\end{enumerate*}\n"
      ],
      "text/markdown": [
       "1. 'OverTime'\n",
       "2. 'MonthlyIncome'\n",
       "3. 'JobRole'\n",
       "4. 'Age'\n",
       "5. 'StockOptionLevel'\n",
       "6. 'JobLevel'\n",
       "7. 'TotalWorkingYears'\n",
       "8. 'YearsAtCompany'\n",
       "9. 'MaritalStatus'\n",
       "10. 'YearsWithCurrManager'\n",
       "11. 'YearsInCurrentRole'\n",
       "12. 'BusinessTravel'\n",
       "13. 'EnvironmentSatisfaction'\n",
       "14. 'WorkLifeBalance'\n",
       "15. 'JobSatisfaction'\n",
       "16. 'NumCompaniesWorked'\n",
       "17. 'JobInvolvement'\n",
       "18. 'Department'\n",
       "19. 'EducationField'\n",
       "20. 'YearsSinceLastPromotion'\n",
       "21. 'DistanceFromHome'\n",
       "22. 'RelationshipSatisfaction'\n",
       "23. 'PercentSalaryHike'\n",
       "24. 'PerformanceRating'\n",
       "25. 'TrainingTimesLastYear'\n",
       "26. 'Gender'\n",
       "27. 'DailyRate'\n",
       "28. 'HourlyRate'\n",
       "29. 'Education'\n",
       "30. 'MonthlyRate'\n",
       "\n",
       "\n"
      ],
      "text/plain": [
       " [1] \"OverTime\"                 \"MonthlyIncome\"           \n",
       " [3] \"JobRole\"                  \"Age\"                     \n",
       " [5] \"StockOptionLevel\"         \"JobLevel\"                \n",
       " [7] \"TotalWorkingYears\"        \"YearsAtCompany\"          \n",
       " [9] \"MaritalStatus\"            \"YearsWithCurrManager\"    \n",
       "[11] \"YearsInCurrentRole\"       \"BusinessTravel\"          \n",
       "[13] \"EnvironmentSatisfaction\"  \"WorkLifeBalance\"         \n",
       "[15] \"JobSatisfaction\"          \"NumCompaniesWorked\"      \n",
       "[17] \"JobInvolvement\"           \"Department\"              \n",
       "[19] \"EducationField\"           \"YearsSinceLastPromotion\" \n",
       "[21] \"DistanceFromHome\"         \"RelationshipSatisfaction\"\n",
       "[23] \"PercentSalaryHike\"        \"PerformanceRating\"       \n",
       "[25] \"TrainingTimesLastYear\"    \"Gender\"                  \n",
       "[27] \"DailyRate\"                \"HourlyRate\"              \n",
       "[29] \"Education\"                \"MonthlyRate\"             "
      ]
     },
     "metadata": {},
     "output_type": "display_data"
    }
   ],
   "source": [
    "# https://machinelearningmastery.com/feature-selection-with-the-caret-r-package/\n",
    "\n",
    "# ensure the results are repeatable\n",
    "set.seed(1234)\n",
    "\n",
    "# load the library\n",
    "library(mlbench)\n",
    "library(caret)\n",
    "\n",
    "# define the control using a random forest selection function\n",
    "control <- rfeControl(functions=rfFuncs, method=\"cv\", number=10)\n",
    "\n",
    "# run the RFE algorithm\n",
    "results <- rfe(emp[,-2], emp[,2], sizes=c(1:8), rfeControl=control)\n",
    "\n",
    "# summarize the results\n",
    "print(results)\n",
    "\n",
    "# list the chosen features in sequence\n",
    "table(predictors(results))"
   ]
  },
  {
   "cell_type": "code",
   "execution_count": 115,
   "metadata": {},
   "outputs": [
    {
     "name": "stdout",
     "output_type": "stream",
     "text": [
      "[1] \"Here top five features are determined by using Random Forest Method. These features are contributing most for Attrition and hence can be given prior attention.\"\n"
     ]
    },
    {
     "data": {
      "text/html": [
       "<ol class=list-inline>\n",
       "\t<li>'OverTime'</li>\n",
       "\t<li>'MonthlyIncome'</li>\n",
       "\t<li>'JobRole'</li>\n",
       "\t<li>'Age'</li>\n",
       "\t<li>'StockOptionLevel'</li>\n",
       "</ol>\n"
      ],
      "text/latex": [
       "\\begin{enumerate*}\n",
       "\\item 'OverTime'\n",
       "\\item 'MonthlyIncome'\n",
       "\\item 'JobRole'\n",
       "\\item 'Age'\n",
       "\\item 'StockOptionLevel'\n",
       "\\end{enumerate*}\n"
      ],
      "text/markdown": [
       "1. 'OverTime'\n",
       "2. 'MonthlyIncome'\n",
       "3. 'JobRole'\n",
       "4. 'Age'\n",
       "5. 'StockOptionLevel'\n",
       "\n",
       "\n"
      ],
      "text/plain": [
       "[1] \"OverTime\"         \"MonthlyIncome\"    \"JobRole\"          \"Age\"             \n",
       "[5] \"StockOptionLevel\""
      ]
     },
     "metadata": {},
     "output_type": "display_data"
    }
   ],
   "source": [
    "print(\"Here top five features are determined by using Random Forest Method. These features are contributing most for Attrition and hence can be given prior attention.\")\n",
    "head(results$optVariables ,5)"
   ]
  },
  {
   "cell_type": "markdown",
   "metadata": {},
   "source": [
    "#### OverTime"
   ]
  },
  {
   "cell_type": "code",
   "execution_count": 118,
   "metadata": {},
   "outputs": [
    {
     "data": {},
     "metadata": {},
     "output_type": "display_data"
    },
    {
     "data": {
      "image/png": "[encoded data removed]",
      "text/plain": [
       "plot without title"
      ]
     },
     "metadata": {},
     "output_type": "display_data"
    }
   ],
   "source": [
    "ggplot(emp, aes(OverTime, fill = factor(Attrition))) + geom_bar(position = \"dodge\")"
   ]
  },
  {
   "cell_type": "markdown",
   "metadata": {},
   "source": [
    "#### MonthlyIncome"
   ]
  },
  {
   "cell_type": "code",
   "execution_count": 131,
   "metadata": {},
   "outputs": [
    {
     "data": {},
     "metadata": {},
     "output_type": "display_data"
    },
    {
     "data": {
      "image/png": "[encoded data removed]",
      "text/plain": [
       "plot without title"
      ]
     },
     "metadata": {},
     "output_type": "display_data"
    }
   ],
   "source": [
    "ggplot(emp, aes(cut(MonthlyIncome, 5), fill = factor(Attrition))) + geom_bar(position = \"dodge\") + \n",
    "    theme(axis.text.x = element_text(angle = 90, hjust = 1))"
   ]
  },
  {
   "cell_type": "markdown",
   "metadata": {},
   "source": [
    "#### JobRole"
   ]
  },
  {
   "cell_type": "code",
   "execution_count": 162,
   "metadata": {},
   "outputs": [
    {
     "data": {},
     "metadata": {},
     "output_type": "display_data"
    },
    {
     "data": {
      "image/png": "[encoded data removed]",
      "text/plain": [
       "plot without title"
      ]
     },
     "metadata": {},
     "output_type": "display_data"
    }
   ],
   "source": [
    "ggplot(emp, aes(JobRole), fill = factor(Attrition)) + geom_bar(position = \"dodge\") + \n",
    "    theme(axis.text.x = element_text(angle = 90, hjust = 1))"
   ]
  },
  {
   "cell_type": "markdown",
   "metadata": {},
   "source": [
    "#### Age"
   ]
  },
  {
   "cell_type": "code",
   "execution_count": 154,
   "metadata": {},
   "outputs": [
    {
     "data": {},
     "metadata": {},
     "output_type": "display_data"
    },
    {
     "data": {
      "image/png": "[encoded data removed]",
      "text/plain": [
       "plot without title"
      ]
     },
     "metadata": {},
     "output_type": "display_data"
    }
   ],
   "source": [
    "ggplot(emp, aes(cut(Age, 7, include.lowest = T), fill = factor(Attrition))) + geom_bar(position = \"dodge\")"
   ]
  },
  {
   "cell_type": "markdown",
   "metadata": {},
   "source": [
    "#### StockOptionLevel"
   ]
  },
  {
   "cell_type": "code",
   "execution_count": 181,
   "metadata": {},
   "outputs": [
    {
     "data": {},
     "metadata": {},
     "output_type": "display_data"
    },
    {
     "data": {
      "image/png": "[encoded data removed]",
      "text/plain": [
       "plot without title"
      ]
     },
     "metadata": {},
     "output_type": "display_data"
    }
   ],
   "source": [
    "ggplot(emp, aes(StockOptionLevel, fill = factor(Attrition))) + geom_bar(position = \"dodge\")"
   ]
  }
 ],
 "metadata": {
  "kernelspec": {
   "display_name": "R",
   "language": "R",
   "name": "ir"
  },
  "language_info": {
   "codemirror_mode": "r",
   "file_extension": ".r",
   "mimetype": "text/x-r-source",
   "name": "R",
   "pygments_lexer": "r",
   "version": "3.5.1"
  },
  "varInspector": {
   "cols": {
    "lenName": 16,
    "lenType": 16,
    "lenVar": 40
   },
   "kernels_config": {
    "python": {
     "delete_cmd_postfix": "",
     "delete_cmd_prefix": "del ",
     "library": "var_list.py",
     "varRefreshCmd": "print(var_dic_list())"
    },
    "r": {
     "delete_cmd_postfix": ") ",
     "delete_cmd_prefix": "rm(",
     "library": "var_list.r",
     "varRefreshCmd": "cat(var_dic_list()) "
    }
   },
   "types_to_exclude": [
    "module",
    "function",
    "builtin_function_or_method",
    "instance",
    "_Feature"
   ],
   "window_display": false
  }
 },
 "nbformat": 4,
 "nbformat_minor": 2
}
