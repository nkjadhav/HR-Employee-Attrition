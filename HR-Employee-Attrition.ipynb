{
 "cells": [
  {
   "cell_type": "markdown",
   "metadata": {},
   "source": [
    "# IBM HR Data Analysis"
   ]
  },
  {
   "cell_type": "markdown",
   "metadata": {},
   "source": [
    "## Introduction\n",
    "#### Objective :\n",
    "To predict if an employee is going to resign or not\n",
    "\n",
    "#### Dataset :\n",
    "Here, I am using a dataset put up by IBM for our analysis. The dataset contain 35 variables along with Attrition variable. It can be downloaded from the following link\n",
    "Link - https://www.ibm.com/communities/analytics/watson-analytics-blog/hr-employee-attrition/\n",
    "\n",
    "#### Approach :\n",
    "1. Through the analysis it is intended to build a model which can predict if an employee is about to quit.\n",
    "2. Considering all variables through some plots and infer about it in the exploratory analysis.\n",
    "3. After the exploration, selection of some features is done based on the Variables at hand and take a call on inclusion/exclusion of few variables."
   ]
  },
  {
   "cell_type": "code",
   "execution_count": null,
   "metadata": {},
   "outputs": [],
   "source": []
  }
 ],
 "metadata": {
  "kernelspec": {
   "display_name": "R",
   "language": "R",
   "name": "ir"
  },
  "language_info": {
   "codemirror_mode": "r",
   "file_extension": ".r",
   "mimetype": "text/x-r-source",
   "name": "R",
   "pygments_lexer": "r",
   "version": "3.5.1"
  }
 },
 "nbformat": 4,
 "nbformat_minor": 2
}
