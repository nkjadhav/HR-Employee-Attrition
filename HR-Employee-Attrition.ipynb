{
 "cells": [
  {
   "cell_type": "markdown",
   "metadata": {},
   "source": [
    "# IBM HR Data Analysis"
   ]
  },
  {
   "cell_type": "markdown",
   "metadata": {},
   "source": [
    "## Introduction\n",
    "#### Objective :\n",
    "To predict if an employee is going to resign or not\n",
    "\n",
    "#### Dataset :\n",
    "Here, a dataset put up by IBM is used for analysis. The dataset contain 35 variables along with Attrition variable. It can be downloaded from the following link\n",
    "Link - https://www.ibm.com/communities/analytics/watson-analytics-blog/hr-employee-attrition/\n",
    "\n",
    "#### Approach :\n",
    "1. Through the analysis it is intended to build a model which can predict if an employee is about to quit.\n",
    "2. Considering all variables through some plots and infer about it in the exploratory analysis.\n",
    "3. After the exploration, selection of some features is done based on the Variables at hand and take a call on inclusion/exclusion of few variables."
   ]
  },
  {
   "cell_type": "markdown",
   "metadata": {},
   "source": [
    "## Loading the data\n",
    "Loaded the data and looked at the different Variables in the dataset"
   ]
  },
  {
   "cell_type": "code",
   "execution_count": 1,
   "metadata": {},
   "outputs": [
    {
     "data": {
      "text/html": [
       "<ol class=list-inline>\n",
       "\t<li>'Age'</li>\n",
       "\t<li>'Attrition'</li>\n",
       "\t<li>'BusinessTravel'</li>\n",
       "\t<li>'DailyRate'</li>\n",
       "\t<li>'Department'</li>\n",
       "\t<li>'DistanceFromHome'</li>\n",
       "\t<li>'Education'</li>\n",
       "\t<li>'EducationField'</li>\n",
       "\t<li>'EmployeeCount'</li>\n",
       "\t<li>'EmployeeNumber'</li>\n",
       "\t<li>'EnvironmentSatisfaction'</li>\n",
       "\t<li>'Gender'</li>\n",
       "\t<li>'HourlyRate'</li>\n",
       "\t<li>'JobInvolvement'</li>\n",
       "\t<li>'JobLevel'</li>\n",
       "\t<li>'JobRole'</li>\n",
       "\t<li>'JobSatisfaction'</li>\n",
       "\t<li>'MaritalStatus'</li>\n",
       "\t<li>'MonthlyIncome'</li>\n",
       "\t<li>'MonthlyRate'</li>\n",
       "\t<li>'NumCompaniesWorked'</li>\n",
       "\t<li>'Over18'</li>\n",
       "\t<li>'OverTime'</li>\n",
       "\t<li>'PercentSalaryHike'</li>\n",
       "\t<li>'PerformanceRating'</li>\n",
       "\t<li>'RelationshipSatisfaction'</li>\n",
       "\t<li>'StandardHours'</li>\n",
       "\t<li>'StockOptionLevel'</li>\n",
       "\t<li>'TotalWorkingYears'</li>\n",
       "\t<li>'TrainingTimesLastYear'</li>\n",
       "\t<li>'WorkLifeBalance'</li>\n",
       "\t<li>'YearsAtCompany'</li>\n",
       "\t<li>'YearsInCurrentRole'</li>\n",
       "\t<li>'YearsSinceLastPromotion'</li>\n",
       "\t<li>'YearsWithCurrManager'</li>\n",
       "</ol>\n"
      ],
      "text/latex": [
       "\\begin{enumerate*}\n",
       "\\item 'Age'\n",
       "\\item 'Attrition'\n",
       "\\item 'BusinessTravel'\n",
       "\\item 'DailyRate'\n",
       "\\item 'Department'\n",
       "\\item 'DistanceFromHome'\n",
       "\\item 'Education'\n",
       "\\item 'EducationField'\n",
       "\\item 'EmployeeCount'\n",
       "\\item 'EmployeeNumber'\n",
       "\\item 'EnvironmentSatisfaction'\n",
       "\\item 'Gender'\n",
       "\\item 'HourlyRate'\n",
       "\\item 'JobInvolvement'\n",
       "\\item 'JobLevel'\n",
       "\\item 'JobRole'\n",
       "\\item 'JobSatisfaction'\n",
       "\\item 'MaritalStatus'\n",
       "\\item 'MonthlyIncome'\n",
       "\\item 'MonthlyRate'\n",
       "\\item 'NumCompaniesWorked'\n",
       "\\item 'Over18'\n",
       "\\item 'OverTime'\n",
       "\\item 'PercentSalaryHike'\n",
       "\\item 'PerformanceRating'\n",
       "\\item 'RelationshipSatisfaction'\n",
       "\\item 'StandardHours'\n",
       "\\item 'StockOptionLevel'\n",
       "\\item 'TotalWorkingYears'\n",
       "\\item 'TrainingTimesLastYear'\n",
       "\\item 'WorkLifeBalance'\n",
       "\\item 'YearsAtCompany'\n",
       "\\item 'YearsInCurrentRole'\n",
       "\\item 'YearsSinceLastPromotion'\n",
       "\\item 'YearsWithCurrManager'\n",
       "\\end{enumerate*}\n"
      ],
      "text/markdown": [
       "1. 'Age'\n",
       "2. 'Attrition'\n",
       "3. 'BusinessTravel'\n",
       "4. 'DailyRate'\n",
       "5. 'Department'\n",
       "6. 'DistanceFromHome'\n",
       "7. 'Education'\n",
       "8. 'EducationField'\n",
       "9. 'EmployeeCount'\n",
       "10. 'EmployeeNumber'\n",
       "11. 'EnvironmentSatisfaction'\n",
       "12. 'Gender'\n",
       "13. 'HourlyRate'\n",
       "14. 'JobInvolvement'\n",
       "15. 'JobLevel'\n",
       "16. 'JobRole'\n",
       "17. 'JobSatisfaction'\n",
       "18. 'MaritalStatus'\n",
       "19. 'MonthlyIncome'\n",
       "20. 'MonthlyRate'\n",
       "21. 'NumCompaniesWorked'\n",
       "22. 'Over18'\n",
       "23. 'OverTime'\n",
       "24. 'PercentSalaryHike'\n",
       "25. 'PerformanceRating'\n",
       "26. 'RelationshipSatisfaction'\n",
       "27. 'StandardHours'\n",
       "28. 'StockOptionLevel'\n",
       "29. 'TotalWorkingYears'\n",
       "30. 'TrainingTimesLastYear'\n",
       "31. 'WorkLifeBalance'\n",
       "32. 'YearsAtCompany'\n",
       "33. 'YearsInCurrentRole'\n",
       "34. 'YearsSinceLastPromotion'\n",
       "35. 'YearsWithCurrManager'\n",
       "\n",
       "\n"
      ],
      "text/plain": [
       " [1] \"Age\"                      \"Attrition\"               \n",
       " [3] \"BusinessTravel\"           \"DailyRate\"               \n",
       " [5] \"Department\"               \"DistanceFromHome\"        \n",
       " [7] \"Education\"                \"EducationField\"          \n",
       " [9] \"EmployeeCount\"            \"EmployeeNumber\"          \n",
       "[11] \"EnvironmentSatisfaction\"  \"Gender\"                  \n",
       "[13] \"HourlyRate\"               \"JobInvolvement\"          \n",
       "[15] \"JobLevel\"                 \"JobRole\"                 \n",
       "[17] \"JobSatisfaction\"          \"MaritalStatus\"           \n",
       "[19] \"MonthlyIncome\"            \"MonthlyRate\"             \n",
       "[21] \"NumCompaniesWorked\"       \"Over18\"                  \n",
       "[23] \"OverTime\"                 \"PercentSalaryHike\"       \n",
       "[25] \"PerformanceRating\"        \"RelationshipSatisfaction\"\n",
       "[27] \"StandardHours\"            \"StockOptionLevel\"        \n",
       "[29] \"TotalWorkingYears\"        \"TrainingTimesLastYear\"   \n",
       "[31] \"WorkLifeBalance\"          \"YearsAtCompany\"          \n",
       "[33] \"YearsInCurrentRole\"       \"YearsSinceLastPromotion\" \n",
       "[35] \"YearsWithCurrManager\"    "
      ]
     },
     "metadata": {},
     "output_type": "display_data"
    }
   ],
   "source": [
    "HRdata <- read.csv(\"HR-Employee-Attrition.csv\")\n",
    "names(HRdata)"
   ]
  },
  {
   "cell_type": "markdown",
   "metadata": {},
   "source": [
    "## Splitting the Dataset into Training & Testing\n",
    "In ordet to build a model we have to train on a set of observations, which we call the Training Set and then validate on the remaining set of observations, which we call our Testing Set.\n",
    "\n",
    "So, we will perform all our analysis on the training set and validate it on our testing set. We shall divide our dataset into training(75%) and testing(25%)"
   ]
  },
  {
   "cell_type": "code",
   "execution_count": 5,
   "metadata": {},
   "outputs": [
    {
     "name": "stderr",
     "output_type": "stream",
     "text": [
      "Loading required package: lattice\n",
      "Loading required package: ggplot2\n"
     ]
    }
   ],
   "source": [
    "library(caret)"
   ]
  },
  {
   "cell_type": "code",
   "execution_count": 6,
   "metadata": {},
   "outputs": [],
   "source": [
    "set.seed(12345)\n",
    "inTrain <- createDataPartition(HRdata$Attrition,p=0.75,list = FALSE)\n",
    "Training <- HRdata[inTrain,]\n",
    "Testing <- HRdata[-inTrain,]"
   ]
  },
  {
   "cell_type": "markdown",
   "metadata": {},
   "source": [
    "## Exploratory Analysis\n",
    "Check the format of the fields which we have to play with in the Training Set."
   ]
  },
  {
   "cell_type": "code",
   "execution_count": 7,
   "metadata": {},
   "outputs": [
    {
     "name": "stdout",
     "output_type": "stream",
     "text": [
      "'data.frame':\t1103 obs. of  35 variables:\n",
      " $ Age                     : int  41 37 33 27 32 59 30 38 36 35 ...\n",
      " $ Attrition               : Factor w/ 2 levels \"No\",\"Yes\": 2 2 1 1 1 1 1 1 1 1 ...\n",
      " $ BusinessTravel          : Factor w/ 3 levels \"Non-Travel\",\"Travel_Frequently\",..: 3 3 2 3 2 3 3 2 3 3 ...\n",
      " $ DailyRate               : int  1102 1373 1392 591 1005 1324 1358 216 1299 809 ...\n",
      " $ Department              : Factor w/ 3 levels \"Human Resources\",..: 3 2 2 2 2 2 2 2 2 2 ...\n",
      " $ DistanceFromHome        : int  1 2 3 2 2 3 24 23 27 16 ...\n",
      " $ Education               : int  2 2 4 1 2 3 1 3 3 3 ...\n",
      " $ EducationField          : Factor w/ 6 levels \"Human Resources\",..: 2 5 2 4 2 4 2 2 4 4 ...\n",
      " $ EmployeeCount           : int  1 1 1 1 1 1 1 1 1 1 ...\n",
      " $ EmployeeNumber          : int  1 4 5 7 8 10 11 12 13 14 ...\n",
      " $ EnvironmentSatisfaction : int  2 4 4 1 4 3 4 4 3 1 ...\n",
      " $ Gender                  : Factor w/ 2 levels \"Female\",\"Male\": 1 2 1 2 2 1 2 2 2 2 ...\n",
      " $ HourlyRate              : int  94 92 56 40 79 81 67 44 94 84 ...\n",
      " $ JobInvolvement          : int  3 2 3 3 3 4 3 2 3 4 ...\n",
      " $ JobLevel                : int  2 1 1 1 1 1 1 3 2 1 ...\n",
      " $ JobRole                 : Factor w/ 9 levels \"Healthcare Representative\",..: 8 3 7 3 3 3 3 5 1 3 ...\n",
      " $ JobSatisfaction         : int  4 3 3 2 4 1 3 3 3 2 ...\n",
      " $ MaritalStatus           : Factor w/ 3 levels \"Divorced\",\"Married\",..: 3 3 2 2 3 2 1 3 2 2 ...\n",
      " $ MonthlyIncome           : int  5993 2090 2909 3468 3068 2670 2693 9526 5237 2426 ...\n",
      " $ MonthlyRate             : int  19479 2396 23159 16632 11864 9964 13335 8787 16577 16479 ...\n",
      " $ NumCompaniesWorked      : int  8 6 1 9 0 4 1 0 6 0 ...\n",
      " $ Over18                  : Factor w/ 1 level \"Y\": 1 1 1 1 1 1 1 1 1 1 ...\n",
      " $ OverTime                : Factor w/ 2 levels \"No\",\"Yes\": 2 2 2 1 1 2 1 1 1 1 ...\n",
      " $ PercentSalaryHike       : int  11 15 11 12 13 20 22 21 13 13 ...\n",
      " $ PerformanceRating       : int  3 3 3 3 3 4 4 4 3 3 ...\n",
      " $ RelationshipSatisfaction: int  1 2 3 4 3 1 2 2 2 3 ...\n",
      " $ StandardHours           : int  80 80 80 80 80 80 80 80 80 80 ...\n",
      " $ StockOptionLevel        : int  0 0 0 1 0 3 1 0 2 1 ...\n",
      " $ TotalWorkingYears       : int  8 7 8 6 8 12 1 10 17 6 ...\n",
      " $ TrainingTimesLastYear   : int  0 3 3 3 2 3 2 2 3 5 ...\n",
      " $ WorkLifeBalance         : int  1 3 3 3 2 2 3 3 2 3 ...\n",
      " $ YearsAtCompany          : int  6 0 8 2 7 1 1 9 7 5 ...\n",
      " $ YearsInCurrentRole      : int  4 0 7 2 7 0 0 7 7 4 ...\n",
      " $ YearsSinceLastPromotion : int  0 0 3 2 3 0 0 1 7 0 ...\n",
      " $ YearsWithCurrManager    : int  5 0 0 2 6 0 0 8 7 3 ...\n"
     ]
    }
   ],
   "source": [
    "str(Training)"
   ]
  },
  {
   "cell_type": "code",
   "execution_count": 8,
   "metadata": {},
   "outputs": [
    {
     "data": {},
     "metadata": {},
     "output_type": "display_data"
    },
    {
     "ename": "ERROR",
     "evalue": "Error in png(tf, width, height, \"in\", pointsize, bg, res, antialias = antialias): unable to start png() device\n",
     "output_type": "error",
     "traceback": [
      "Error in png(tf, width, height, \"in\", pointsize, bg, res, antialias = antialias): unable to start png() device\nTraceback:\n"
     ]
    },
    {
     "data": {
      "text/plain": [
       "plot without title"
      ]
     },
     "metadata": {},
     "output_type": "display_data"
    }
   ],
   "source": [
    "library(ggplot2)\n",
    "ggplot(Training,aes(Attrition,fill=Attrition))+geom_bar()"
   ]
  },
  {
   "cell_type": "code",
   "execution_count": null,
   "metadata": {},
   "outputs": [],
   "source": []
  }
 ],
 "metadata": {
  "kernelspec": {
   "display_name": "R",
   "language": "R",
   "name": "ir"
  },
  "language_info": {
   "codemirror_mode": "r",
   "file_extension": ".r",
   "mimetype": "text/x-r-source",
   "name": "R",
   "pygments_lexer": "r",
   "version": "3.5.1"
  }
 },
 "nbformat": 4,
 "nbformat_minor": 2
}
